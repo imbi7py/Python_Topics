{
 "worksheets": [
  {
   "cells": [
    {
     "cell_type": "heading",
     "metadata": {},
     "level": 1,
     "source": [
      "`list`, `tuple`"
     ]
    },
    {
     "cell_type": "heading",
     "metadata": {},
     "level": 2,
     "source": [
      "Problem Statement: Phone Book"
     ]
    },
    {
     "cell_type": "raw",
     "metadata": {},
     "source": [
      "Write a set of functions to implement a personal rolodex (phone book.)\n",
      "- insert, remove\n",
      "- retreive by name\n",
      "- retrieve by details"
     ]
    },
    {
     "cell_type": "heading",
     "metadata": {},
     "level": 2,
     "source": [
      "`list`"
     ]
    },
    {
     "cell_type": "raw",
     "metadata": {},
     "source": [
      "- collection of items\n",
      "- a sequence (sorted)\n",
      "- typically homogeneous\n",
      "- methods (mutable)"
     ]
    },
    {
     "cell_type": "heading",
     "metadata": {},
     "level": 2,
     "source": [
      "`tuple`"
     ]
    },
    {
     "cell_type": "raw",
     "metadata": {},
     "source": [
      "- collection of items\n",
      "- a sequence (positional)\n",
      "- often heterogeneous (record)\n",
      "- unpackable: typically fixed size with positional meaning (record)\n",
      "- methods (immutable)"
     ]
    },
    {
     "cell_type": "heading",
     "metadata": {},
     "level": 3,
     "source": [
      "creating a `list`"
     ]
    },
    {
     "cell_type": "code",
     "execution_count": null,
     "metadata": {},
     "outputs": [
      {
       "prompt_number": 2,
       "metadata": {},
       "output_type": "pyout",
       "text": [
        "['apple', 'banana', 'apple', 'pear', 'strawberry']"
       ]
      }
     ],
     "input": [
      "fruits = ['apple', 'banana', 'apple', 'pear', 'strawberry',]\n",
      "fruits"
     ],
     "language": "python",
     "prompt_number": 2
    },
    {
     "cell_type": "code",
     "execution_count": null,
     "metadata": {},
     "outputs": [
      {
       "prompt_number": 3,
       "metadata": {},
       "output_type": "pyout",
       "text": [
        "['apple', 'banana', 'apple', 'pear', 'strawberry']"
       ]
      }
     ],
     "input": [
      "fruits = list(['apple', 'banana', 'apple', 'pear', 'strawberry'])\n",
      "fruits"
     ],
     "language": "python",
     "prompt_number": 3
    },
    {
     "cell_type": "code",
     "execution_count": null,
     "metadata": {},
     "outputs": [
      {
       "prompt_number": 4,
       "metadata": {},
       "output_type": "pyout",
       "text": [
        "['a', 'p', 'p', 'l', 'e']"
       ]
      }
     ],
     "input": [
      "letters = list('apple')\n",
      "letters"
     ],
     "language": "python",
     "prompt_number": 4
    },
    {
     "cell_type": "code",
     "execution_count": null,
     "metadata": {},
     "outputs": [
      {
       "prompt_number": 5,
       "metadata": {},
       "output_type": "pyout",
       "text": [
        "[0, 1, 2, 3, 4, 5, 6, 7, 8, 9]"
       ]
      }
     ],
     "input": [
      "numbers = list(range(10))\n",
      "numbers"
     ],
     "language": "python",
     "prompt_number": 5
    },
    {
     "cell_type": "code",
     "execution_count": null,
     "metadata": {},
     "outputs": [
      {
       "prompt_number": 9,
       "metadata": {},
       "output_type": "pyout",
       "text": [
        "[]"
       ]
      }
     ],
     "input": [
      "empty_list = []\n",
      "empty_list"
     ],
     "language": "python",
     "prompt_number": 9
    },
    {
     "cell_type": "code",
     "execution_count": null,
     "metadata": {},
     "outputs": [
      {
       "prompt_number": 7,
       "metadata": {},
       "output_type": "pyout",
       "text": [
        "[]"
       ]
      }
     ],
     "input": [
      "empty_list = list()\n",
      "empty_list"
     ],
     "language": "python",
     "prompt_number": 7
    },
    {
     "cell_type": "heading",
     "metadata": {},
     "level": 3,
     "source": [
      "creating a `tuple`"
     ]
    },
    {
     "cell_type": "code",
     "execution_count": null,
     "metadata": {},
     "outputs": [
      {
       "prompt_number": 10,
       "metadata": {},
       "output_type": "pyout",
       "text": [
        "('John', 'Quincy', 'Adams', datetime.date(1767, 7, 11))"
       ]
      }
     ],
     "input": [
      "from datetime import date\n",
      "\n",
      "profile = ('John', 'Quincy', 'Adams', date(1767, 7, 11))\n",
      "profile"
     ],
     "language": "python",
     "prompt_number": 10
    },
    {
     "cell_type": "code",
     "execution_count": null,
     "metadata": {},
     "outputs": [
      {
       "prompt_number": 11,
       "metadata": {},
       "output_type": "pyout",
       "text": [
        "('John', 'Quincy', 'Adams', datetime.date(1767, 7, 11))"
       ]
      }
     ],
     "input": [
      "from datetime import date\n",
      "\n",
      "profile = 'John', 'Quincy', 'Adams', date(1767, 7, 11)\n",
      "profile"
     ],
     "language": "python",
     "prompt_number": 11
    },
    {
     "cell_type": "code",
     "execution_count": null,
     "metadata": {},
     "outputs": [
      {
       "prompt_number": 13,
       "metadata": {},
       "output_type": "pyout",
       "text": [
        "('John',)"
       ]
      }
     ],
     "input": [
      "from datetime import date\n",
      "\n",
      "profile = ('John',)\n",
      "profile"
     ],
     "language": "python",
     "prompt_number": 13
    },
    {
     "cell_type": "code",
     "execution_count": null,
     "metadata": {},
     "outputs": [
      {
       "prompt_number": 14,
       "metadata": {},
       "output_type": "pyout",
       "text": [
        "('John', 'Quincy', 'Adams', datetime.date(1767, 7, 11))"
       ]
      }
     ],
     "input": [
      "profile = tuple(['John', 'Quincy', 'Adams', date(1767, 7, 11)])\n",
      "profile"
     ],
     "language": "python",
     "prompt_number": 14
    },
    {
     "cell_type": "code",
     "execution_count": null,
     "metadata": {},
     "outputs": [
      {
       "prompt_number": 15,
       "metadata": {},
       "output_type": "pyout",
       "text": [
        "('a', 'p', 'p', 'l', 'e')"
       ]
      }
     ],
     "input": [
      "letters = tuple('apple')\n",
      "letters"
     ],
     "language": "python",
     "prompt_number": 15
    },
    {
     "cell_type": "code",
     "execution_count": null,
     "metadata": {},
     "outputs": [
      {
       "prompt_number": 16,
       "metadata": {},
       "output_type": "pyout",
       "text": [
        "(0, 1, 2, 3, 4, 5, 6, 7, 8, 9)"
       ]
      }
     ],
     "input": [
      "numbers = tuple(range(10))\n",
      "numbers"
     ],
     "language": "python",
     "prompt_number": 16
    },
    {
     "cell_type": "code",
     "execution_count": null,
     "metadata": {},
     "outputs": [
      {
       "prompt_number": 21,
       "metadata": {},
       "output_type": "pyout",
       "text": [
        "tuple"
       ]
      }
     ],
     "input": [
      "profile = tuple()\n",
      "type(profile)"
     ],
     "language": "python",
     "prompt_number": 21
    },
    {
     "cell_type": "heading",
     "metadata": {},
     "level": 3,
     "source": [
      "comprehension syntax"
     ]
    },
    {
     "cell_type": "code",
     "execution_count": null,
     "metadata": {},
     "outputs": [
      {
       "prompt_number": 22,
       "metadata": {},
       "output_type": "pyout",
       "text": [
        "[0, 1, 4, 9, 16, 25, 36, 49, 64, 81]"
       ]
      }
     ],
     "input": [
      "squares = [x**2 for x in range(10)]\n",
      "squares"
     ],
     "language": "python",
     "prompt_number": 22
    },
    {
     "cell_type": "code",
     "execution_count": null,
     "metadata": {},
     "outputs": [
      {
       "prompt_number": 23,
       "metadata": {},
       "output_type": "pyout",
       "text": [
        "[0, 4, 16, 36, 64]"
       ]
      }
     ],
     "input": [
      "even_squares = [x**2 for x in range(10) if x**2 % 2 == 0]\n",
      "even_squares"
     ],
     "language": "python",
     "prompt_number": 23
    },
    {
     "cell_type": "code",
     "execution_count": null,
     "metadata": {},
     "outputs": [
      {
       "prompt_number": 24,
       "metadata": {},
       "output_type": "pyout",
       "text": [
        "<generator object <genexpr> at 0x0000000004F74870>"
       ]
      }
     ],
     "input": [
      "# no such thing as a TUPLE-comprehension!\n",
      "squares = (x**2 for x in range(10))\n",
      "squares"
     ],
     "language": "python",
     "prompt_number": 24
    },
    {
     "cell_type": "code",
     "execution_count": null,
     "metadata": {},
     "outputs": [
      {
       "prompt_number": 25,
       "metadata": {},
       "output_type": "pyout",
       "text": [
        "(0, 1, 4, 9, 16, 25, 36, 49, 64, 81)"
       ]
      }
     ],
     "input": [
      "squares = tuple(x**2 for x in range(10))\n",
      "squares"
     ],
     "language": "python",
     "prompt_number": 25
    },
    {
     "cell_type": "heading",
     "metadata": {},
     "level": 3,
     "source": [
      "`getitem` syntax"
     ]
    },
    {
     "cell_type": "code",
     "execution_count": null,
     "metadata": {},
     "outputs": [],
     "input": [
      "fruits = ['apple', 'banana', 'apple', 'pear', 'strawberry']"
     ],
     "language": "python",
     "prompt_number": 26
    },
    {
     "cell_type": "code",
     "execution_count": null,
     "metadata": {},
     "outputs": [
      {
       "prompt_number": 27,
       "metadata": {},
       "output_type": "pyout",
       "text": [
        "'apple'"
       ]
      }
     ],
     "input": [
      "fruits[0]"
     ],
     "language": "python",
     "prompt_number": 27
    },
    {
     "cell_type": "code",
     "execution_count": null,
     "metadata": {},
     "outputs": [
      {
       "prompt_number": 31,
       "metadata": {},
       "output_type": "pyout",
       "text": [
        "['banana', 'pear']"
       ]
      }
     ],
     "input": [
      "fruits[1::2]"
     ],
     "language": "python",
     "prompt_number": 31
    },
    {
     "cell_type": "code",
     "execution_count": null,
     "metadata": {},
     "outputs": [],
     "input": [
      "profile = 'John', 'Quincy', 'Adams', date(1767, 7, 11)"
     ],
     "language": "python",
     "prompt_number": 32
    },
    {
     "cell_type": "code",
     "execution_count": null,
     "metadata": {},
     "outputs": [
      {
       "prompt_number": 33,
       "metadata": {},
       "output_type": "pyout",
       "text": [
        "'John'"
       ]
      }
     ],
     "input": [
      "profile[0]"
     ],
     "language": "python",
     "prompt_number": 33
    },
    {
     "cell_type": "code",
     "execution_count": null,
     "metadata": {},
     "outputs": [
      {
       "prompt_number": 36,
       "metadata": {},
       "output_type": "pyout",
       "text": [
        "('Adams', datetime.date(1767, 7, 11))"
       ]
      }
     ],
     "input": [
      "profile[2:]"
     ],
     "language": "python",
     "prompt_number": 36
    },
    {
     "cell_type": "code",
     "execution_count": null,
     "metadata": {},
     "outputs": [
      {
       "prompt_number": 39,
       "metadata": {},
       "output_type": "pyout",
       "text": [
        "['strawberry', 'pear', 'apple', 'banana', 'apple']"
       ]
      }
     ],
     "input": [
      "fruits[::-1]"
     ],
     "language": "python",
     "prompt_number": 39
    },
    {
     "cell_type": "heading",
     "metadata": {},
     "level": 3,
     "source": [
      "`setitem` syntax"
     ]
    },
    {
     "cell_type": "code",
     "execution_count": null,
     "metadata": {},
     "outputs": [],
     "input": [
      "fruits = ['apple', 'banana', 'apple', 'pear', 'strawberry']"
     ],
     "language": "python",
     "prompt_number": 40
    },
    {
     "cell_type": "code",
     "execution_count": null,
     "metadata": {},
     "outputs": [
      {
       "prompt_number": 41,
       "metadata": {},
       "output_type": "pyout",
       "text": [
        "['apple', 'banana', 'apple', 'watermelon', 'strawberry']"
       ]
      }
     ],
     "input": [
      "fruits[3] = 'watermelon'\n",
      "fruits"
     ],
     "language": "python",
     "prompt_number": 41
    },
    {
     "cell_type": "code",
     "execution_count": null,
     "metadata": {},
     "outputs": [
      {
       "prompt_number": 42,
       "metadata": {},
       "output_type": "pyout",
       "text": [
        "['apple', 'banana', 'apple', 'orange', 'orange']"
       ]
      }
     ],
     "input": [
      "fruits[3:5] = 'orange', 'orange'\n",
      "fruits"
     ],
     "language": "python",
     "prompt_number": 42
    },
    {
     "cell_type": "code",
     "execution_count": null,
     "metadata": {},
     "outputs": [],
     "input": [
      "from datetime import date\n",
      "profile = 'John', 'Adams', date(1735, 10, 30)"
     ],
     "language": "python",
     "prompt_number": 43
    },
    {
     "cell_type": "code",
     "execution_count": null,
     "metadata": {},
     "outputs": [
      {
       "ename": "TypeError",
       "evalue": "'tuple' object does not support item assignment",
       "traceback": [
        "\u001b[1;31m---------------------------------------------------------------------------\u001b[0m\n\u001b[1;31mTypeError\u001b[0m                                 Traceback (most recent call last)",
        "\u001b[1;32m<ipython-input-44-f208721e71f6>\u001b[0m in \u001b[0;36m<module>\u001b[1;34m()\u001b[0m\n\u001b[1;32m----> 1\u001b[1;33m \u001b[0mprofile\u001b[0m\u001b[1;33m[\u001b[0m\u001b[1;36m1\u001b[0m\u001b[1;33m]\u001b[0m \u001b[1;33m=\u001b[0m \u001b[1;34m'Tyler'\u001b[0m\u001b[1;33m\u001b[0m\u001b[0m\n\u001b[0m",
        "\u001b[1;31mTypeError\u001b[0m: 'tuple' object does not support item assignment"
       ],
       "output_type": "pyerr"
      }
     ],
     "input": [
      "profile[1] = 'Tyler'"
     ],
     "language": "python",
     "prompt_number": 44
    },
    {
     "cell_type": "code",
     "execution_count": null,
     "metadata": {},
     "outputs": [
      {
       "ename": "TypeError",
       "evalue": "'tuple' object does not support item assignment",
       "traceback": [
        "\u001b[1;31m---------------------------------------------------------------------------\u001b[0m\n\u001b[1;31mTypeError\u001b[0m                                 Traceback (most recent call last)",
        "\u001b[1;32m<ipython-input-45-9aef5d8fde6b>\u001b[0m in \u001b[0;36m<module>\u001b[1;34m()\u001b[0m\n\u001b[1;32m----> 1\u001b[1;33m \u001b[0mprofile\u001b[0m\u001b[1;33m[\u001b[0m\u001b[1;36m1\u001b[0m\u001b[1;33m:\u001b[0m\u001b[1;36m3\u001b[0m\u001b[1;33m]\u001b[0m \u001b[1;33m=\u001b[0m \u001b[1;34m'Tyler'\u001b[0m\u001b[1;33m,\u001b[0m \u001b[0mdate\u001b[0m\u001b[1;33m(\u001b[0m\u001b[1;36m1970\u001b[0m\u001b[1;33m,\u001b[0m \u001b[1;36m3\u001b[0m\u001b[1;33m,\u001b[0m \u001b[1;36m29\u001b[0m\u001b[1;33m)\u001b[0m\u001b[1;33m\u001b[0m\u001b[0m\n\u001b[0m",
        "\u001b[1;31mTypeError\u001b[0m: 'tuple' object does not support item assignment"
       ],
       "output_type": "pyerr"
      }
     ],
     "input": [
      "profile[1:3] = 'Tyler', date(1970, 3, 29)"
     ],
     "language": "python",
     "prompt_number": 45
    },
    {
     "cell_type": "heading",
     "metadata": {},
     "level": 4,
     "source": [
      "corner cases"
     ]
    },
    {
     "cell_type": "code",
     "execution_count": null,
     "metadata": {},
     "outputs": [],
     "input": [
      "some_tuple = (1, 'a', [])"
     ],
     "language": "python",
     "prompt_number": 46
    },
    {
     "cell_type": "code",
     "execution_count": null,
     "metadata": {},
     "outputs": [
      {
       "prompt_number": 47,
       "metadata": {},
       "output_type": "pyout",
       "text": [
        "[]"
       ]
      }
     ],
     "input": [
      "some_tuple[2]"
     ],
     "language": "python",
     "prompt_number": 47
    },
    {
     "cell_type": "code",
     "execution_count": null,
     "metadata": {},
     "outputs": [
      {
       "ename": "TypeError",
       "evalue": "'tuple' object does not support item assignment",
       "traceback": [
        "\u001b[1;31m---------------------------------------------------------------------------\u001b[0m\n\u001b[1;31mTypeError\u001b[0m                                 Traceback (most recent call last)",
        "\u001b[1;32m<ipython-input-48-af0922708168>\u001b[0m in \u001b[0;36m<module>\u001b[1;34m()\u001b[0m\n\u001b[1;32m----> 1\u001b[1;33m \u001b[0msome_tuple\u001b[0m\u001b[1;33m[\u001b[0m\u001b[1;36m2\u001b[0m\u001b[1;33m]\u001b[0m \u001b[1;33m+=\u001b[0m \u001b[1;33m[\u001b[0m\u001b[1;36m2\u001b[0m\u001b[1;33m]\u001b[0m\u001b[1;33m\u001b[0m\u001b[0m\n\u001b[0m",
        "\u001b[1;31mTypeError\u001b[0m: 'tuple' object does not support item assignment"
       ],
       "output_type": "pyerr"
      }
     ],
     "input": [
      "some_tuple[2] += [2]"
     ],
     "language": "python",
     "prompt_number": 48
    },
    {
     "cell_type": "code",
     "execution_count": null,
     "metadata": {},
     "outputs": [
      {
       "prompt_number": 49,
       "metadata": {},
       "output_type": "pyout",
       "text": [
        "(1, 'a', [2])"
       ]
      }
     ],
     "input": [
      "some_tuple"
     ],
     "language": "python",
     "prompt_number": 49
    },
    {
     "cell_type": "heading",
     "metadata": {},
     "level": 3,
     "source": [
      "`delitem` syntax"
     ]
    },
    {
     "cell_type": "code",
     "execution_count": null,
     "metadata": {},
     "outputs": [],
     "input": [
      "fruits = ['apple', 'banana', 'apple', 'pear', 'strawberry']"
     ],
     "language": "python",
     "prompt_number": 50
    },
    {
     "cell_type": "code",
     "execution_count": null,
     "metadata": {},
     "outputs": [
      {
       "prompt_number": 52,
       "metadata": {},
       "output_type": "pyout",
       "text": [
        "['apple', 'strawberry']"
       ]
      }
     ],
     "input": [
      "del fruits[1:3]\n",
      "fruits"
     ],
     "language": "python",
     "prompt_number": 52
    },
    {
     "cell_type": "code",
     "execution_count": null,
     "metadata": {},
     "outputs": [],
     "input": [
      "from datetime import date\n",
      "profile = 'John', 'Quincy', 'Adams', date(1767, 7, 11)"
     ],
     "language": "python",
     "prompt_number": 53
    },
    {
     "cell_type": "code",
     "execution_count": null,
     "metadata": {},
     "outputs": [
      {
       "ename": "TypeError",
       "evalue": "'tuple' object doesn't support item deletion",
       "traceback": [
        "\u001b[1;31m---------------------------------------------------------------------------\u001b[0m\n\u001b[1;31mTypeError\u001b[0m                                 Traceback (most recent call last)",
        "\u001b[1;32m<ipython-input-54-ae68c1626803>\u001b[0m in \u001b[0;36m<module>\u001b[1;34m()\u001b[0m\n\u001b[1;32m----> 1\u001b[1;33m \u001b[1;32mdel\u001b[0m \u001b[0mprofile\u001b[0m\u001b[1;33m[\u001b[0m\u001b[1;36m1\u001b[0m\u001b[1;33m]\u001b[0m\u001b[1;33m\u001b[0m\u001b[0m\n\u001b[0m\u001b[0;32m      2\u001b[0m \u001b[0mprofile\u001b[0m\u001b[1;33m\u001b[0m\u001b[0m\n",
        "\u001b[1;31mTypeError\u001b[0m: 'tuple' object doesn't support item deletion"
       ],
       "output_type": "pyerr"
      }
     ],
     "input": [
      "del profile[1]\n",
      "profile"
     ],
     "language": "python",
     "prompt_number": 54
    },
    {
     "cell_type": "heading",
     "metadata": {},
     "level": 3,
     "source": [
      "iteration"
     ]
    },
    {
     "cell_type": "code",
     "execution_count": null,
     "metadata": {},
     "outputs": [
      {
       "stream": "stdout",
       "output_type": "stream",
       "text": [
        "My favourite fruit is the apple\n",
        "My favourite fruit is the banana\n",
        "My favourite fruit is the apple\n",
        "My favourite fruit is the pear\n",
        "My favourite fruit is the strawberry\n"
       ]
      }
     ],
     "input": [
      "fruits = ['apple', 'banana', 'apple', 'pear', 'strawberry']\n",
      "\n",
      "for fruit in fruits:\n",
      "    print (\"My favourite fruit is the\", fruit)"
     ],
     "language": "python",
     "prompt_number": 55
    },
    {
     "cell_type": "code",
     "execution_count": null,
     "metadata": {},
     "outputs": [
      {
       "stream": "stdout",
       "output_type": "stream",
       "text": [
        "My favourite fruit is the apple\n",
        "My favourite fruit is the banana\n",
        "My favourite fruit is the apple\n"
       ]
      }
     ],
     "input": [
      "for fruit in fruits[:3]:\n",
      "    print (\"My favourite fruit is the\", fruit)"
     ],
     "language": "python",
     "prompt_number": 56
    },
    {
     "cell_type": "code",
     "execution_count": null,
     "metadata": {},
     "outputs": [
      {
       "stream": "stdout",
       "output_type": "stream",
       "text": [
        "My favourite fruit is the apple\n",
        "My favourite fruit is the apple\n",
        "My favourite fruit is the strawberry\n"
       ]
      }
     ],
     "input": [
      "fruits = ['apple', 'banana', 'apple', 'pear', 'strawberry']\n",
      "\n",
      "for idx, fruit in enumerate(fruits):\n",
      "    del fruits[idx]\n",
      "    print (\"My favourite fruit is the\", fruit)"
     ],
     "language": "python",
     "prompt_number": 60
    },
    {
     "cell_type": "code",
     "execution_count": null,
     "metadata": {},
     "outputs": [
      {
       "prompt_number": 61,
       "metadata": {},
       "output_type": "pyout",
       "text": [
        "['banana', 'pear']"
       ]
      }
     ],
     "input": [
      "fruits"
     ],
     "language": "python",
     "prompt_number": 61
    },
    {
     "cell_type": "heading",
     "metadata": {},
     "level": 3,
     "source": [
      "unpacking"
     ]
    },
    {
     "cell_type": "code",
     "execution_count": null,
     "metadata": {},
     "outputs": [
      {
       "prompt_number": 64,
       "metadata": {},
       "output_type": "pyout",
       "text": [
        "2"
       ]
      }
     ],
     "input": [
      "x, y = 1, 2\n",
      "y"
     ],
     "language": "python",
     "prompt_number": 64
    },
    {
     "cell_type": "code",
     "execution_count": null,
     "metadata": {},
     "outputs": [],
     "input": [
      "x, y = y, x"
     ],
     "language": "python",
     "prompt_number": 65
    },
    {
     "cell_type": "code",
     "execution_count": null,
     "metadata": {},
     "outputs": [
      {
       "prompt_number": 67,
       "metadata": {},
       "output_type": "pyout",
       "text": [
        "1"
       ]
      }
     ],
     "input": [
      "y"
     ],
     "language": "python",
     "prompt_number": 67
    },
    {
     "cell_type": "code",
     "execution_count": null,
     "metadata": {},
     "outputs": [],
     "input": [
      "from datetime import date\n",
      "profile = 'John', 'Quincy', 'Adams', date(1767, 7, 11)"
     ],
     "language": "python",
     "prompt_number": 68
    },
    {
     "cell_type": "code",
     "execution_count": null,
     "metadata": {},
     "outputs": [
      {
       "prompt_number": 70,
       "metadata": {},
       "output_type": "pyout",
       "text": [
        "'Quincy'"
       ]
      }
     ],
     "input": [
      "first_name, middle_name, last_name, birthday = profile\n",
      "middle_name"
     ],
     "language": "python",
     "prompt_number": 70
    },
    {
     "cell_type": "code",
     "execution_count": null,
     "metadata": {},
     "outputs": [],
     "input": [
      "from datetime import date\n",
      "profile = 'John', 'Adams', date(1735, 10, 30)"
     ],
     "language": "python",
     "prompt_number": 71
    },
    {
     "cell_type": "code",
     "execution_count": null,
     "metadata": {},
     "outputs": [
      {
       "ename": "ValueError",
       "evalue": "need more than 3 values to unpack",
       "traceback": [
        "\u001b[1;31m---------------------------------------------------------------------------\u001b[0m\n\u001b[1;31mValueError\u001b[0m                                Traceback (most recent call last)",
        "\u001b[1;32m<ipython-input-73-eaa97579be19>\u001b[0m in \u001b[0;36m<module>\u001b[1;34m()\u001b[0m\n\u001b[1;32m----> 1\u001b[1;33m \u001b[0mfirst_name\u001b[0m\u001b[1;33m,\u001b[0m \u001b[0mmiddle_name\u001b[0m\u001b[1;33m,\u001b[0m \u001b[0mlast_name\u001b[0m\u001b[1;33m,\u001b[0m \u001b[0mbirthday\u001b[0m \u001b[1;33m=\u001b[0m \u001b[0mprofile\u001b[0m\u001b[1;33m\u001b[0m\u001b[0m\n\u001b[0m\u001b[0;32m      2\u001b[0m \u001b[0mbirthday\u001b[0m\u001b[1;33m\u001b[0m\u001b[0m\n",
        "\u001b[1;31mValueError\u001b[0m: need more than 3 values to unpack"
       ],
       "output_type": "pyerr"
      }
     ],
     "input": [
      "first_name, middle_name, last_name, birthday = profile\n",
      "birthday"
     ],
     "language": "python",
     "prompt_number": 73
    },
    {
     "cell_type": "code",
     "execution_count": null,
     "metadata": {},
     "outputs": [
      {
       "prompt_number": 74,
       "metadata": {},
       "output_type": "pyout",
       "text": [
        "'apple'"
       ]
      }
     ],
     "input": [
      "fruits = ['apple', 'banana', 'apple', 'pear', 'strawberry']\n",
      "fruit1, fruit2, fruit3, fruit4, fruit5 = fruits\n",
      "fruit1"
     ],
     "language": "python",
     "prompt_number": 74
    },
    {
     "cell_type": "code",
     "execution_count": null,
     "metadata": {},
     "outputs": [],
     "input": [
      "fruits = ['apple', 'banana', 'apple', 'pear', 'strawberry']\n",
      "first_fruit, second_fruit, *remaining_fruits = fruits"
     ],
     "language": "python",
     "prompt_number": 81
    },
    {
     "cell_type": "code",
     "execution_count": null,
     "metadata": {},
     "outputs": [
      {
       "prompt_number": 82,
       "metadata": {},
       "output_type": "pyout",
       "text": [
        "'banana'"
       ]
      }
     ],
     "input": [
      "second_fruit"
     ],
     "language": "python",
     "prompt_number": 82
    },
    {
     "cell_type": "heading",
     "metadata": {},
     "level": 3,
     "source": [
      "argument unpacking"
     ]
    },
    {
     "cell_type": "code",
     "execution_count": null,
     "metadata": {},
     "outputs": [],
     "input": [
      "def three_things(x, y, z):\n",
      "    print (\"I like three things: {}, {}, and {}\".format(x, y, z))"
     ],
     "language": "python",
     "prompt_number": 83
    },
    {
     "cell_type": "code",
     "execution_count": null,
     "metadata": {},
     "outputs": [
      {
       "stream": "stdout",
       "output_type": "stream",
       "text": [
        "I like three things: apple, banana, and pear\n"
       ]
      }
     ],
     "input": [
      "fruits = ['apple', 'banana', 'pear']\n",
      "three_things(*fruits)"
     ],
     "language": "python",
     "prompt_number": 84
    },
    {
     "cell_type": "code",
     "execution_count": null,
     "metadata": {},
     "outputs": [
      {
       "ename": "TypeError",
       "evalue": "three_things() takes 3 positional arguments but 4 were given",
       "traceback": [
        "\u001b[1;31m---------------------------------------------------------------------------\u001b[0m\n\u001b[1;31mTypeError\u001b[0m                                 Traceback (most recent call last)",
        "\u001b[1;32m<ipython-input-85-840b0496138c>\u001b[0m in \u001b[0;36m<module>\u001b[1;34m()\u001b[0m\n\u001b[1;32m----> 1\u001b[1;33m \u001b[0mthree_things\u001b[0m\u001b[1;33m(\u001b[0m\u001b[1;33m*\u001b[0m\u001b[1;33m[\u001b[0m\u001b[1;34m'apple'\u001b[0m\u001b[1;33m,\u001b[0m \u001b[1;34m'banana'\u001b[0m\u001b[1;33m,\u001b[0m \u001b[1;34m'watermelon'\u001b[0m\u001b[1;33m,\u001b[0m \u001b[1;34m'strawberry'\u001b[0m\u001b[1;33m]\u001b[0m\u001b[1;33m)\u001b[0m\u001b[1;33m\u001b[0m\u001b[0m\n\u001b[0m",
        "\u001b[1;31mTypeError\u001b[0m: three_things() takes 3 positional arguments but 4 were given"
       ],
       "output_type": "pyerr"
      }
     ],
     "input": [
      "three_things(*['apple', 'banana', 'watermelon', 'strawberry'])"
     ],
     "language": "python",
     "prompt_number": 85
    },
    {
     "cell_type": "code",
     "execution_count": null,
     "metadata": {},
     "outputs": [],
     "input": [
      "def three_names(first, middle, last):\n",
      "    print (\"I have three names: {}, {}, and {}\".format(first, middle, last))"
     ],
     "language": "python",
     "prompt_number": 86
    },
    {
     "cell_type": "code",
     "execution_count": null,
     "metadata": {},
     "outputs": [
      {
       "stream": "stdout",
       "output_type": "stream",
       "text": [
        "I have three names: John, Quincy, and Adams\n"
       ]
      }
     ],
     "input": [
      "profile = 'John', 'Quincy', 'Adams'\n",
      "three_names(*profile)"
     ],
     "language": "python",
     "prompt_number": 87
    },
    {
     "cell_type": "code",
     "execution_count": null,
     "metadata": {},
     "outputs": [
      {
       "ename": "TypeError",
       "evalue": "three_names() missing 1 required positional argument: 'last'",
       "traceback": [
        "\u001b[1;31m---------------------------------------------------------------------------\u001b[0m\n\u001b[1;31mTypeError\u001b[0m                                 Traceback (most recent call last)",
        "\u001b[1;32m<ipython-input-88-c64fc43b9f96>\u001b[0m in \u001b[0;36m<module>\u001b[1;34m()\u001b[0m\n\u001b[0;32m      1\u001b[0m \u001b[0mprofile\u001b[0m \u001b[1;33m=\u001b[0m \u001b[1;34m'John'\u001b[0m\u001b[1;33m,\u001b[0m \u001b[1;34m'Tyler'\u001b[0m\u001b[1;33m\u001b[0m\u001b[0m\n\u001b[1;32m----> 2\u001b[1;33m \u001b[0mthree_names\u001b[0m\u001b[1;33m(\u001b[0m\u001b[1;33m*\u001b[0m\u001b[0mprofile\u001b[0m\u001b[1;33m)\u001b[0m\u001b[1;33m\u001b[0m\u001b[0m\n\u001b[0m",
        "\u001b[1;31mTypeError\u001b[0m: three_names() missing 1 required positional argument: 'last'"
       ],
       "output_type": "pyerr"
      }
     ],
     "input": [
      "profile = 'John', 'Tyler'\n",
      "three_names(*profile)"
     ],
     "language": "python",
     "prompt_number": 88
    },
    {
     "cell_type": "heading",
     "metadata": {},
     "level": 3,
     "source": [
      "adding & multiplying"
     ]
    },
    {
     "cell_type": "code",
     "execution_count": null,
     "metadata": {},
     "outputs": [
      {
       "prompt_number": 89,
       "metadata": {},
       "output_type": "pyout",
       "text": [
        "['apple', 'apple', 'apple']"
       ]
      }
     ],
     "input": [
      "['apple'] * 3"
     ],
     "language": "python",
     "prompt_number": 89
    },
    {
     "cell_type": "code",
     "execution_count": null,
     "metadata": {},
     "outputs": [
      {
       "prompt_number": 90,
       "metadata": {},
       "output_type": "pyout",
       "text": [
        "(123, 456, 123, 456, 123, 456)"
       ]
      }
     ],
     "input": [
      "(123, 456) * 3"
     ],
     "language": "python",
     "prompt_number": 90
    },
    {
     "cell_type": "code",
     "execution_count": null,
     "metadata": {},
     "outputs": [
      {
       "prompt_number": 94,
       "metadata": {},
       "output_type": "pyout",
       "text": [
        "['apple', 'orange', 'apple', 'orange', 'apple', 'orange']"
       ]
      }
     ],
     "input": [
      "['apple', 'orange'] * 3"
     ],
     "language": "python",
     "prompt_number": 94
    },
    {
     "cell_type": "code",
     "execution_count": null,
     "metadata": {},
     "outputs": [
      {
       "prompt_number": 99,
       "metadata": {},
       "output_type": "pyout",
       "text": [
        "['apple', 'banana']"
       ]
      }
     ],
     "input": [
      "['apple'] + ['banana']"
     ],
     "language": "python",
     "prompt_number": 99
    },
    {
     "cell_type": "code",
     "execution_count": null,
     "metadata": {},
     "outputs": [
      {
       "prompt_number": 101,
       "metadata": {},
       "output_type": "pyout",
       "text": [
        "('John', 'Quincy', 'Adams')"
       ]
      }
     ],
     "input": [
      "('John', 'Quincy') + ('Adams',)"
     ],
     "language": "python",
     "prompt_number": 101
    },
    {
     "cell_type": "code",
     "execution_count": null,
     "metadata": {},
     "outputs": [
      {
       "prompt_number": 102,
       "metadata": {},
       "output_type": "pyout",
       "text": [
        "83370120"
       ]
      }
     ],
     "input": [
      "fruits = ['apple']\n",
      "id(fruits)"
     ],
     "language": "python",
     "prompt_number": 102
    },
    {
     "cell_type": "code",
     "execution_count": null,
     "metadata": {},
     "outputs": [
      {
       "prompt_number": 104,
       "metadata": {},
       "output_type": "pyout",
       "text": [
        "83370120"
       ]
      }
     ],
     "input": [
      "fruits += ['banana']\n",
      "id(fruits)"
     ],
     "language": "python",
     "prompt_number": 104
    },
    {
     "cell_type": "code",
     "execution_count": null,
     "metadata": {},
     "outputs": [
      {
       "prompt_number": 105,
       "metadata": {},
       "output_type": "pyout",
       "text": [
        "85947672"
       ]
      }
     ],
     "input": [
      "profile = 'John',\n",
      "id(profile)"
     ],
     "language": "python",
     "prompt_number": 105
    },
    {
     "cell_type": "code",
     "execution_count": null,
     "metadata": {},
     "outputs": [
      {
       "prompt_number": 107,
       "metadata": {},
       "output_type": "pyout",
       "text": [
        "83134144"
       ]
      }
     ],
     "input": [
      "profile += ('Tyler',)\n",
      "id(profile)"
     ],
     "language": "python",
     "prompt_number": 107
    },
    {
     "cell_type": "heading",
     "metadata": {},
     "level": 3,
     "source": [
      "common methods"
     ]
    },
    {
     "cell_type": "raw",
     "metadata": {},
     "source": [
      "- .count\n",
      "- .index"
     ]
    },
    {
     "cell_type": "code",
     "execution_count": null,
     "metadata": {},
     "outputs": [
      {
       "prompt_number": 109,
       "metadata": {},
       "output_type": "pyout",
       "text": [
        "1"
       ]
      }
     ],
     "input": [
      "fruits = ['apple', 'banana', 'apple', 'pear', 'strawberry']\n",
      "fruits.count('banana')"
     ],
     "language": "python",
     "prompt_number": 109
    },
    {
     "cell_type": "code",
     "execution_count": null,
     "metadata": {},
     "outputs": [
      {
       "prompt_number": 111,
       "metadata": {},
       "output_type": "pyout",
       "text": [
        "0"
       ]
      }
     ],
     "input": [
      "profile = 'Ford', 'Madox', 'Ford'\n",
      "profile.count('Chevy')"
     ],
     "language": "python",
     "prompt_number": 111
    },
    {
     "cell_type": "code",
     "execution_count": null,
     "metadata": {},
     "outputs": [
      {
       "ename": "ValueError",
       "evalue": "'watermelon' is not in list",
       "traceback": [
        "\u001b[1;31m---------------------------------------------------------------------------\u001b[0m\n\u001b[1;31mValueError\u001b[0m                                Traceback (most recent call last)",
        "\u001b[1;32m<ipython-input-116-6cbe00c7e417>\u001b[0m in \u001b[0;36m<module>\u001b[1;34m()\u001b[0m\n\u001b[0;32m      1\u001b[0m \u001b[0mfruits\u001b[0m \u001b[1;33m=\u001b[0m \u001b[1;33m[\u001b[0m\u001b[1;34m'apple'\u001b[0m\u001b[1;33m,\u001b[0m \u001b[1;34m'banana'\u001b[0m\u001b[1;33m,\u001b[0m \u001b[1;34m'apple'\u001b[0m\u001b[1;33m,\u001b[0m \u001b[1;34m'pear'\u001b[0m\u001b[1;33m,\u001b[0m \u001b[1;34m'strawberry'\u001b[0m\u001b[1;33m]\u001b[0m\u001b[1;33m\u001b[0m\u001b[0m\n\u001b[1;32m----> 2\u001b[1;33m \u001b[0mfruits\u001b[0m\u001b[1;33m.\u001b[0m\u001b[0mindex\u001b[0m\u001b[1;33m(\u001b[0m\u001b[1;34m'watermelon'\u001b[0m\u001b[1;33m)\u001b[0m\u001b[1;33m\u001b[0m\u001b[0m\n\u001b[0m",
        "\u001b[1;31mValueError\u001b[0m: 'watermelon' is not in list"
       ],
       "output_type": "pyerr"
      }
     ],
     "input": [
      "fruits = ['apple', 'banana', 'apple', 'pear', 'strawberry']\n",
      "fruits.index('watermelon')"
     ],
     "language": "python",
     "prompt_number": 116
    },
    {
     "cell_type": "code",
     "execution_count": null,
     "metadata": {},
     "outputs": [
      {
       "ename": "ValueError",
       "evalue": "tuple.index(x): x not in tuple",
       "traceback": [
        "\u001b[1;31m---------------------------------------------------------------------------\u001b[0m\n\u001b[1;31mValueError\u001b[0m                                Traceback (most recent call last)",
        "\u001b[1;32m<ipython-input-115-98ac9af94a4f>\u001b[0m in \u001b[0;36m<module>\u001b[1;34m()\u001b[0m\n\u001b[0;32m      1\u001b[0m \u001b[0mprofile\u001b[0m \u001b[1;33m=\u001b[0m \u001b[1;34m'Ford'\u001b[0m\u001b[1;33m,\u001b[0m \u001b[1;34m'Madox'\u001b[0m\u001b[1;33m,\u001b[0m \u001b[1;34m'Ford'\u001b[0m\u001b[1;33m\u001b[0m\u001b[0m\n\u001b[1;32m----> 2\u001b[1;33m \u001b[0mprofile\u001b[0m\u001b[1;33m.\u001b[0m\u001b[0mindex\u001b[0m\u001b[1;33m(\u001b[0m\u001b[1;34m'Chevy'\u001b[0m\u001b[1;33m)\u001b[0m\u001b[1;33m\u001b[0m\u001b[0m\n\u001b[0m",
        "\u001b[1;31mValueError\u001b[0m: tuple.index(x): x not in tuple"
       ],
       "output_type": "pyerr"
      }
     ],
     "input": [
      "profile = 'Ford', 'Madox', 'Ford'\n",
      "profile.index('Chevy')"
     ],
     "language": "python",
     "prompt_number": 115
    },
    {
     "cell_type": "heading",
     "metadata": {},
     "level": 3,
     "source": [
      "methods specific to `list`"
     ]
    },
    {
     "cell_type": "raw",
     "metadata": {},
     "source": [
      "- .append\n",
      "- .clear\n",
      "- .extend\n",
      "- .insert\n",
      "- .pop\n",
      "- .remove\n",
      "- .reverse\n",
      "- .sort"
     ]
    },
    {
     "cell_type": "code",
     "execution_count": null,
     "metadata": {},
     "outputs": [
      {
       "prompt_number": 118,
       "metadata": {},
       "output_type": "pyout",
       "text": [
        "['apple', 'banana', 'apple', 'pear', 'strawberry', ['watermelon']]"
       ]
      }
     ],
     "input": [
      "fruits = ['apple', 'banana', 'apple', 'pear', 'strawberry']\n",
      "fruits.append(['watermelon'])\n",
      "fruits"
     ],
     "language": "python",
     "prompt_number": 118
    },
    {
     "cell_type": "code",
     "execution_count": null,
     "metadata": {},
     "outputs": [
      {
       "prompt_number": 119,
       "metadata": {},
       "output_type": "pyout",
       "text": [
        "[]"
       ]
      }
     ],
     "input": [
      "fruits = ['apple', 'banana', 'apple', 'pear', 'strawberry']\n",
      "fruits.clear()\n",
      "fruits"
     ],
     "language": "python",
     "prompt_number": 119
    },
    {
     "cell_type": "code",
     "execution_count": null,
     "metadata": {},
     "outputs": [
      {
       "prompt_number": 120,
       "metadata": {},
       "output_type": "pyout",
       "text": [
        "[]"
       ]
      }
     ],
     "input": [
      "fruits = ['apple', 'banana', 'apple', 'pear', 'strawberry']\n",
      "del fruits[:]\n",
      "fruits"
     ],
     "language": "python",
     "prompt_number": 120
    },
    {
     "cell_type": "code",
     "execution_count": null,
     "metadata": {},
     "outputs": [
      {
       "prompt_number": 125,
       "metadata": {},
       "output_type": "pyout",
       "text": [
        "['apple', 'banana', 'apple', 'pear', 'strawberry', 'a', 'p', 'p', 'l', 'e']"
       ]
      }
     ],
     "input": [
      "fruits = ['apple', 'banana', 'apple', 'pear', 'strawberry']\n",
      "fruits.extend('apple')\n",
      "fruits"
     ],
     "language": "python",
     "prompt_number": 125
    },
    {
     "cell_type": "code",
     "execution_count": null,
     "metadata": {},
     "outputs": [
      {
       "prompt_number": 126,
       "metadata": {},
       "output_type": "pyout",
       "text": [
        "['apple', 'banana', 'apple', 'dragonfruit', 'pear', 'strawberry']"
       ]
      }
     ],
     "input": [
      "fruits = ['apple', 'banana', 'apple', 'pear', 'strawberry']\n",
      "fruits.insert(3, 'dragonfruit')\n",
      "fruits"
     ],
     "language": "python",
     "prompt_number": 126
    },
    {
     "cell_type": "code",
     "execution_count": null,
     "metadata": {},
     "outputs": [
      {
       "prompt_number": 127,
       "metadata": {},
       "output_type": "pyout",
       "text": [
        "'strawberry'"
       ]
      }
     ],
     "input": [
      "fruits = ['apple', 'banana', 'apple', 'pear', 'strawberry']\n",
      "fruits.pop()"
     ],
     "language": "python",
     "prompt_number": 127
    },
    {
     "cell_type": "code",
     "execution_count": null,
     "metadata": {},
     "outputs": [
      {
       "prompt_number": 129,
       "metadata": {},
       "output_type": "pyout",
       "text": [
        "['apple', 'banana', 'apple']"
       ]
      }
     ],
     "input": [
      "fruits.pop()\n",
      "fruits"
     ],
     "language": "python",
     "prompt_number": 129
    },
    {
     "cell_type": "code",
     "execution_count": null,
     "metadata": {},
     "outputs": [
      {
       "stream": "stdout",
       "output_type": "stream",
       "text": [
        "Appending: apple\n",
        "Appending: banana\n",
        "Appending: pear\n",
        "Appending: strawberry\n"
       ]
      }
     ],
     "input": [
      "# `list` as a stack (LIFO)\n",
      "fruits = []\n",
      "for fruit in ('apple', 'banana', 'pear', 'strawberry'):\n",
      "    print (\"Appending:\", fruit)\n",
      "    fruits.append(fruit)"
     ],
     "language": "python",
     "prompt_number": 130
    },
    {
     "cell_type": "code",
     "execution_count": null,
     "metadata": {},
     "outputs": [
      {
       "prompt_number": 131,
       "metadata": {},
       "output_type": "pyout",
       "text": [
        "['apple', 'banana', 'pear', 'strawberry']"
       ]
      }
     ],
     "input": [
      "fruits"
     ],
     "language": "python",
     "prompt_number": 131
    },
    {
     "cell_type": "code",
     "execution_count": null,
     "metadata": {},
     "outputs": [
      {
       "stream": "stdout",
       "output_type": "stream",
       "text": [
        "Popping: strawberry\n",
        "Popping: pear\n",
        "Popping: banana\n",
        "Popping: apple\n"
       ]
      }
     ],
     "input": [
      "while fruits:\n",
      "    print (\"Popping:\", fruits.pop())"
     ],
     "language": "python",
     "prompt_number": 132
    },
    {
     "cell_type": "code",
     "execution_count": null,
     "metadata": {},
     "outputs": [
      {
       "prompt_number": 135,
       "metadata": {},
       "output_type": "pyout",
       "text": [
        "['apple', 'banana', 'apple', 'strawberry']"
       ]
      }
     ],
     "input": [
      "fruits = ['apple', 'banana', 'apple', 'pear', 'strawberry']\n",
      "fruits.remove('pear')\n",
      "fruits"
     ],
     "language": "python",
     "prompt_number": 135
    },
    {
     "cell_type": "code",
     "execution_count": null,
     "metadata": {},
     "outputs": [
      {
       "ename": "ValueError",
       "evalue": "list.remove(x): x not in list",
       "traceback": [
        "\u001b[1;31m---------------------------------------------------------------------------\u001b[0m\n\u001b[1;31mValueError\u001b[0m                                Traceback (most recent call last)",
        "\u001b[1;32m<ipython-input-136-40d9d7a6644a>\u001b[0m in \u001b[0;36m<module>\u001b[1;34m()\u001b[0m\n\u001b[1;32m----> 1\u001b[1;33m \u001b[0mfruits\u001b[0m\u001b[1;33m.\u001b[0m\u001b[0mremove\u001b[0m\u001b[1;33m(\u001b[0m\u001b[1;34m'pear'\u001b[0m\u001b[1;33m)\u001b[0m\u001b[1;33m\u001b[0m\u001b[0m\n\u001b[0m\u001b[0;32m      2\u001b[0m \u001b[0mfruits\u001b[0m\u001b[1;33m\u001b[0m\u001b[0m\n",
        "\u001b[1;31mValueError\u001b[0m: list.remove(x): x not in list"
       ],
       "output_type": "pyerr"
      }
     ],
     "input": [
      "fruits.remove('pear')\n",
      "fruits"
     ],
     "language": "python",
     "prompt_number": 136
    },
    {
     "cell_type": "code",
     "execution_count": null,
     "metadata": {},
     "outputs": [
      {
       "prompt_number": 137,
       "metadata": {},
       "output_type": "pyout",
       "text": [
        "['strawberry', 'pear', 'apple', 'banana', 'apple']"
       ]
      }
     ],
     "input": [
      "fruits = ['apple', 'banana', 'apple', 'pear', 'strawberry']\n",
      "fruits.reverse()\n",
      "fruits"
     ],
     "language": "python",
     "prompt_number": 137
    },
    {
     "cell_type": "code",
     "execution_count": null,
     "metadata": {},
     "outputs": [
      {
       "prompt_number": 140,
       "metadata": {},
       "output_type": "pyout",
       "text": [
        "['strawberry', 'banana', 'apple', 'apple', 'pear']"
       ]
      }
     ],
     "input": [
      "fruits = ['apple', 'banana', 'apple', 'pear', 'strawberry']\n",
      "fruits.sort(key=len, reverse=True)\n",
      "fruits"
     ],
     "language": "python",
     "prompt_number": 140
    },
    {
     "cell_type": "code",
     "execution_count": null,
     "metadata": {},
     "outputs": [
      {
       "prompt_number": 141,
       "metadata": {},
       "output_type": "pyout",
       "text": [
        "['Adams', 'John', 'Quincy']"
       ]
      }
     ],
     "input": [
      "profile = 'John', 'Quincy', 'Adams'\n",
      "sorted(profile)"
     ],
     "language": "python",
     "prompt_number": 141
    },
    {
     "cell_type": "code",
     "execution_count": null,
     "metadata": {},
     "outputs": [
      {
       "prompt_number": 145,
       "metadata": {},
       "output_type": "pyout",
       "text": [
        "<reversed at 0x520bfd0>"
       ]
      }
     ],
     "input": [
      "profile = 'John', 'Quincy', 'Adams'\n",
      "reversed(profile)"
     ],
     "language": "python",
     "prompt_number": 145
    },
    {
     "cell_type": "heading",
     "metadata": {},
     "level": 3,
     "source": [
      "semantics"
     ]
    },
    {
     "cell_type": "raw",
     "metadata": {},
     "source": [
      "- tuples usually represent records\n",
      "  - heterogeneous\n",
      "  - fixed-size\n",
      "  - immutable\n",
      "    \n",
      "- lists usually represent collections\n",
      "  - homogeneous\n",
      "  - dynamically sized\n",
      "  - mutable: can change, insert, remove elements at will"
     ]
    },
    {
     "cell_type": "code",
     "execution_count": null,
     "metadata": {},
     "outputs": [],
     "input": [
      "presidents = [\n",
      "    # first name   # middle name          # last name   born  died  took  left\n",
      "    ('George',     [],                    'Washington', 1732, 1799, 1789, 1797,),\n",
      "    ('John',       [],                    'Adams',      1735, 1826, 1797, 1801,),\n",
      "    ('Thomas',     [],                    'Jefferson',  1743, 1826, 1801, 1809,),\n",
      "    ('James',      [],                    'Madison',    1751, 1836, 1809, 1817,),\n",
      "    ('James',      [],                    'Monroe',     1758, 1831, 1817, 1825,),\n",
      "\n",
      "    ('John',       ['Quincy'],            'Adams',      1767, 1848, 1825, 1829,),\n",
      "    ('Andrew',     [],                    'Jackson',    1767, 1845, 1829, 1837,),\n",
      "    ('Martin',     [],                    'Van Buren',  1782, 1862, 1837, 1841,),\n",
      "    ('William',    ['Henry'],             'Harrison',   1773, 1841, 1841, 1841,),\n",
      "    ('John',       [],                    'Tyler',      1790, 1862, 1841, 1845,),\n",
      "\n",
      "    ('James',      ['Knox'],              'Polk',       1795, 1849, 1845, 1849,),\n",
      "    ('Zachary',    [],                    'Taylor',     1784, 1850, 1849, 1850,),\n",
      "    ('Millard',    [],                    'Fillmore',   1800, 1874, 1850, 1853,),\n",
      "    ('Franklin',   [],                    'Pierce',     1804, 1869, 1853, 1857,),\n",
      "    ('James',      [],                    'Buchanan',   1791, 1868, 1857, 1861,),\n",
      "\n",
      "    ('Abraham',    [],                    'Lincoln',    1809, 1865, 1861, 1865,),\n",
      "    ('Andrew',     [],                    'Johnson',    1808, 1875, 1865, 1869,),\n",
      "    ('Ulysses',    ['S.'],                'Grant',      1822, 1885, 1869, 1877,),\n",
      "    ('Rutherford', ['Birchard'],          'Hayes',      1822, 1893, 1877, 1881,),\n",
      "    ('James',      ['Abram'],             'Garfield',   1831, 1881, 1881, 1881,),\n",
      "\n",
      "    ('Chester',    ['Alan'],              'Arthur',     1829, 1886, 1881, 1885,),\n",
      "    ('Grover',     [],                    'Cleveland',  1837, 1908, 1885, 1889,),\n",
      "    ('Benjamin',   [],                    'Harrison',   1833, 1901, 1889, 1893,),\n",
      "    ('Grover',     [],                    'Cleveland',  1837, 1908, 1893, 1897,), # !\n",
      "    ('William',    [],                    'McKinley',   1843, 1901, 1897, 1901,),\n",
      "\n",
      "    ('Theodore',   [],                    'Roosevelt',  1858, 1919, 1901, 1909,),\n",
      "    ('William',    ['Howard'],            'Taft',       1857, 1930, 1909, 1913,),\n",
      "    ('Woodrow',    [],                    'Wilson',     1856, 1924, 1913, 1921,),\n",
      "    ('Warren',     ['Gamaliel'],          'Harding',    1865, 1923, 1921, 1923,),\n",
      "    ('Calvin',     [],                    'Coolidge',   1872, 1933, 1923, 1929,),\n",
      "\n",
      "    ('Herbert',    [],                    'Hoover',     1874, 1964, 1929, 1933,),\n",
      "    ('Franklin',   ['Delano'],            'Roosevelt',  1882, 1945, 1933, 1945,),\n",
      "    ('Harry',      ['S.'],                'Truman',     1884, 1972, 1945, 1953,),\n",
      "    ('Dwight',     ['David'],             'Eisenhower', 1890, 1969, 1953, 1961,),\n",
      "    ('John',       ['Fitzgerald'],        'Kennedy',    1917, 1963, 1961, 1963,),\n",
      "    \n",
      "    ('Lyndon',     ['Baines'],            'Johnson',    1908, 1973, 1963, 1969,),\n",
      "    ('Richard',    [],                    'Nixon',      1913, 1994, 1969, 1974,),\n",
      "    ('Gerald',     [],                    'Ford',       1913, 2006, 1974, 1977,),\n",
      "    ('Jimmy',      [],                    'Carter',     1924, None, 1977, 1981,),\n",
      "    ('Ronald',     [],                    'Reagan',     1911, 2004, 1981, 1989,),\n",
      "    \n",
      "    ('George',     ['Herbert', 'Walker'], 'Bush',       1924, None, 1989, 1993,),\n",
      "    ('Bill',       [],                    'Clinton',    1946, None, 1993, 2001,),\n",
      "    ('George',     ['Walker'],            'Bush',       1946, None, 2001, 2009,),\n",
      "    ('Barack',     [],                    'Obama',      1961, None, 2009, None,),\n",
      "]"
     ],
     "language": "python",
     "prompt_number": 146
    },
    {
     "cell_type": "code",
     "execution_count": null,
     "metadata": {},
     "outputs": [],
     "input": [
      "pres_ages = []\n",
      "\n",
      "for pres in presidents:\n",
      "    first, middle, last, born, died, took, left = pres\n",
      "    pres_ages.append(('{} {}'.format(first, last), took-born))\n",
      "\n",
      "pres_ages.sort(key=lambda item: item[1])"
     ],
     "language": "python",
     "prompt_number": 147
    },
    {
     "cell_type": "code",
     "execution_count": null,
     "metadata": {},
     "outputs": [
      {
       "stream": "stdout",
       "output_type": "stream",
       "text": [
        "Theodore Roosevelt   43\n",
        "John Kennedy         44\n",
        "Ulysses Grant        47\n",
        "Bill Clinton         47\n",
        "Grover Cleveland     48\n",
        "Barack Obama         48\n",
        "Franklin Pierce      49\n",
        "James Polk           50\n",
        "Millard Fillmore     50\n",
        "James Garfield       50\n"
       ]
      }
     ],
     "input": [
      "for name, age in pres_ages[:10]:\n",
      "    print('{:<20} {}'.format(name, age))"
     ],
     "language": "python",
     "prompt_number": 151
    },
    {
     "cell_type": "heading",
     "metadata": {},
     "level": 3,
     "source": [
      "`collections.namedtuple`"
     ]
    },
    {
     "cell_type": "markdown",
     "metadata": {},
     "source": [
      "https://docs.python.org/3/library/collections.html?highlight=collections.namedtuple"
     ]
    },
    {
     "cell_type": "code",
     "execution_count": null,
     "metadata": {},
     "outputs": [],
     "input": [
      "from collections import namedtuple\n",
      "President = namedtuple('President', ['first', 'middle', 'last', 'born', 'died', 'took', 'left'])"
     ],
     "language": "python",
     "prompt_number": 152
    },
    {
     "cell_type": "code",
     "execution_count": null,
     "metadata": {},
     "outputs": [],
     "input": [
      "presidents = [\n",
      "    President('George',     [],                    'Washington', 1732, 1799, 1789, 1797,),\n",
      "    President('John',       [],                    'Adams',      1735, 1826, 1797, 1801,),\n",
      "    President('Thomas',     [],                    'Jefferson',  1743, 1826, 1801, 1809,),\n",
      "    President('James',      [],                    'Madison',    1751, 1836, 1809, 1817,),\n",
      "    President('James',      [],                    'Monroe',     1758, 1831, 1817, 1825,),\n",
      "\n",
      "    President('John',       ['Quincy'],            'Adams',      1767, 1848, 1825, 1829,),\n",
      "    President('Andrew',     [],                    'Jackson',    1767, 1845, 1829, 1837,),\n",
      "    President('Martin',     [],                    'Van Buren',  1782, 1862, 1837, 1841,),\n",
      "    President('William',    ['Henry'],             'Harrison',   1773, 1841, 1841, 1841,),\n",
      "    President('John',       [],                    'Tyler',      1790, 1862, 1841, 1845,),\n",
      "\n",
      "    President('James',      ['Knox'],              'Polk',       1795, 1849, 1845, 1849,),\n",
      "    President('Zachary',    [],                    'Taylor',     1784, 1850, 1849, 1850,),\n",
      "    President('Millard',    [],                    'Fillmore',   1800, 1874, 1850, 1853,),\n",
      "    President('Franklin',   [],                    'Pierce',     1804, 1869, 1853, 1857,),\n",
      "    President('James',      [],                    'Buchanan',   1791, 1868, 1857, 1861,),\n",
      "\n",
      "    President('Abraham',    [],                    'Lincoln',    1809, 1865, 1861, 1865,),\n",
      "    President('Andrew',     [],                    'Johnson',    1808, 1875, 1865, 1869,),\n",
      "    President('Ulysses',    ['S.'],                'Grant',      1822, 1885, 1869, 1877,),\n",
      "    President('Rutherford', ['Birchard'],          'Hayes',      1822, 1893, 1877, 1881,),\n",
      "    President('James',      ['Abram'],             'Garfield',   1831, 1881, 1881, 1881,),\n",
      "\n",
      "    President('Chester',    ['Alan'],              'Arthur',     1829, 1886, 1881, 1885,),\n",
      "    President('Grover',     [],                    'Cleveland',  1837, 1908, 1885, 1889,),\n",
      "    President('Benjamin',   [],                    'Harrison',   1833, 1901, 1889, 1893,),\n",
      "    President('Grover',     [],                    'Cleveland',  1837, 1908, 1893, 1897,), # !\n",
      "    President('William',    [],                    'McKinley',   1843, 1901, 1897, 1901,),\n",
      "\n",
      "    President('Theodore',   [],                    'Roosevelt',  1858, 1919, 1901, 1909,),\n",
      "    President('William',    ['Howard'],            'Taft',       1857, 1930, 1909, 1913,),\n",
      "    President('Woodrow',    [],                    'Wilson',     1856, 1924, 1913, 1921,),\n",
      "    President('Warren',     ['Gamaliel'],          'Harding',    1865, 1923, 1921, 1923,),\n",
      "    President('Calvin',     [],                    'Coolidge',   1872, 1933, 1923, 1929,),\n",
      "\n",
      "    President('Herbert',    [],                    'Hoover',     1874, 1964, 1929, 1933,),\n",
      "    President('Franklin',   ['Delano'],            'Roosevelt',  1882, 1945, 1933, 1945,),\n",
      "    President('Harry',      ['S.'],                'Truman',     1884, 1972, 1945, 1953,),\n",
      "    President('Dwight',     ['David'],             'Eisenhower', 1890, 1969, 1953, 1961,),\n",
      "    President('John',       ['Fitzgerald'],        'Kennedy',    1917, 1963, 1961, 1963,),\n",
      "    \n",
      "    President('Lyndon',     ['Baines'],            'Johnson',    1908, 1973, 1963, 1969,),\n",
      "    President('Richard',    [],                    'Nixon',      1913, 1994, 1969, 1974,),\n",
      "    President('Gerald',     [],                    'Ford',       1913, 2006, 1974, 1977,),\n",
      "    President('Jimmy',      [],                    'Carter',     1924, None, 1977, 1981,),\n",
      "    President('Ronald',     [],                    'Reagan',     1911, 2004, 1981, 1989,),\n",
      "    \n",
      "    President('George',     ['Herbert', 'Walker'], 'Bush',       1924, None, 1989, 1993,),\n",
      "    President('Bill',       [],                    'Clinton',    1946, None, 1993, 2001,),\n",
      "    President('George',     ['Walker'],            'Bush',       1946, None, 2001, 2009,),\n",
      "    President('Barack',     [],                    'Obama',      1961, None, 2009, None,),\n",
      "]"
     ],
     "language": "python",
     "prompt_number": 153
    },
    {
     "cell_type": "code",
     "execution_count": null,
     "metadata": {},
     "outputs": [
      {
       "prompt_number": 156,
       "metadata": {},
       "output_type": "pyout",
       "text": [
        "President(first='George', middle=[], last='Washington', born=1732, died=1799, took=1789, left=1797)"
       ]
      }
     ],
     "input": [
      "presidents[0]"
     ],
     "language": "python",
     "prompt_number": 156
    },
    {
     "cell_type": "code",
     "execution_count": null,
     "metadata": {},
     "outputs": [],
     "input": [
      "pres_ages = []\n",
      "\n",
      "for pres in presidents:\n",
      "    if pres.left and pres.died:\n",
      "        pres_ages.append((pres, pres.died - pres.left))\n",
      "    elif pres.left:\n",
      "        pres_ages.append((pres, 2015 - pres.left))\n",
      "\n",
      "pres_ages.sort(key=lambda item: item[1], reverse=True)"
     ],
     "language": "python",
     "prompt_number": 157
    },
    {
     "cell_type": "code",
     "execution_count": null,
     "metadata": {},
     "outputs": [
      {
       "stream": "stdout",
       "output_type": "stream",
       "text": [
        "Jimmy Carter                        34\n",
        "Herbert Hoover                      31\n",
        "Gerald Ford                         29\n",
        "John Adams                          25\n",
        "George Herbert Walker Bush          22\n",
        "Martin Van Buren                    21\n",
        "Millard Fillmore                    21\n",
        "Richard Nixon                       20\n",
        "James Madison                       19\n",
        "John Quincy Adams                   19\n",
        "Grover Cleveland                    19\n",
        "Harry S. Truman                     19\n",
        "Thomas Jefferson                    17\n",
        "John Tyler                          17\n",
        "William Howard Taft                 17\n",
        "Ronald Reagan                       15\n",
        "Bill Clinton                        14\n",
        "Franklin Pierce                     12\n",
        "Rutherford Birchard Hayes           12\n",
        "Grover Cleveland                    11\n",
        "Theodore Roosevelt                  10\n",
        "Andrew Jackson                      8\n",
        "Ulysses S. Grant                    8\n",
        "Benjamin Harrison                   8\n",
        "Dwight David Eisenhower             8\n",
        "James Buchanan                      7\n",
        "James Monroe                        6\n",
        "Andrew Johnson                      6\n",
        "George Walker Bush                  6\n",
        "Calvin Coolidge                     4\n",
        "Lyndon Baines Johnson               4\n",
        "Woodrow Wilson                      3\n",
        "George Washington                   2\n",
        "Chester Alan Arthur                 1\n",
        "William Henry Harrison              0\n",
        "James Knox Polk                     0\n",
        "Zachary Taylor                      0\n",
        "Abraham Lincoln                     0\n",
        "James Abram Garfield                0\n",
        "William McKinley                    0\n",
        "Warren Gamaliel Harding             0\n",
        "Franklin Delano Roosevelt           0\n",
        "John Fitzgerald Kennedy             0\n"
       ]
      }
     ],
     "input": [
      "for pres, age in pres_ages:\n",
      "    name = ' '.join([pres.first] + pres.middle + [pres.last])\n",
      "    print('{:<35} {}'.format(name, age))"
     ],
     "language": "python",
     "prompt_number": 158
    },
    {
     "cell_type": "code",
     "execution_count": null,
     "metadata": {},
     "outputs": [],
     "input": [
      "%matplotlib inline"
     ],
     "language": "python",
     "prompt_number": 159
    },
    {
     "cell_type": "code",
     "execution_count": null,
     "metadata": {},
     "outputs": [
      {
       "prompt_number": 161,
       "metadata": {},
       "output_type": "pyout",
       "text": [
        "(array([ 43.,  34.,  33.,  32.,  31.,  29.,  29.,  26.,  25.,  21.,  21.,\n",
        "         20.,  19.,  17.,  17.,  16.,  15.,  15.,  12.,  12.,   8.,   7.,\n",
        "          5.,   4.,   4.,   4.,   3.,   3.,   3.,   3.,   2.,   2.,   1.,\n",
        "          1.,   1.]),\n",
        " array([  0.        ,   0.97142857,   1.94285714,   2.91428571,\n",
        "          3.88571429,   4.85714286,   5.82857143,   6.8       ,\n",
        "          7.77142857,   8.74285714,   9.71428571,  10.68571429,\n",
        "         11.65714286,  12.62857143,  13.6       ,  14.57142857,\n",
        "         15.54285714,  16.51428571,  17.48571429,  18.45714286,\n",
        "         19.42857143,  20.4       ,  21.37142857,  22.34285714,\n",
        "         23.31428571,  24.28571429,  25.25714286,  26.22857143,\n",
        "         27.2       ,  28.17142857,  29.14285714,  30.11428571,\n",
        "         31.08571429,  32.05714286,  33.02857143,  34.        ]),\n",
        " <a list of 35 Patch objects>)"
       ]
      },
      {
       "png": "[encoded data removed]",
       "metadata": {},
       "text": [
        "<matplotlib.figure.Figure at 0x6fb4320>"
       ]
      }
     ],
     "input": [
      "from matplotlib.pyplot import hist\n",
      "ages = [age for pres, age in pres_ages]\n",
      "hist(ages, bins=35, cumulative=-1)"
     ],
     "language": "python",
     "prompt_number": 161
    },
    {
     "cell_type": "heading",
     "metadata": {},
     "level": 3,
     "source": [
      "`collections.deque`"
     ]
    },
    {
     "cell_type": "markdown",
     "metadata": {},
     "source": [
      "https://docs.python.org/3/library/collections.html?highlight=collections.deque"
     ]
    },
    {
     "cell_type": "raw",
     "metadata": {},
     "source": [
      "good: ()\n",
      "good: ([])\n",
      "bad:  ((())\n",
      "bad:  ([)]"
     ]
    },
    {
     "cell_type": "code",
     "execution_count": null,
     "metadata": {},
     "outputs": [],
     "input": [
      "def balanced(expr):\n",
      "    groupings = { ')': '(',\n",
      "                  ']': '[',\n",
      "                  '>': '<',\n",
      "                  '}': '{' }\n",
      "    \n",
      "    stack = []    \n",
      "    for char in expr:\n",
      "        if char in groupings.values():\n",
      "            stack.append(char)\n",
      "            \n",
      "        elif char in groupings:\n",
      "            if not stack or stack.pop() != groupings[char]:\n",
      "                return False\n",
      "    \n",
      "    return not stack"
     ],
     "language": "python",
     "prompt_number": 162
    },
    {
     "cell_type": "code",
     "execution_count": null,
     "metadata": {},
     "outputs": [
      {
       "prompt_number": 163,
       "metadata": {},
       "output_type": "pyout",
       "text": [
        "True"
       ]
      }
     ],
     "input": [
      "balanced('()')"
     ],
     "language": "python",
     "prompt_number": 163
    },
    {
     "cell_type": "code",
     "execution_count": null,
     "metadata": {},
     "outputs": [
      {
       "prompt_number": 164,
       "metadata": {},
       "output_type": "pyout",
       "text": [
        "False"
       ]
      }
     ],
     "input": [
      "balanced('(()')"
     ],
     "language": "python",
     "prompt_number": 164
    },
    {
     "cell_type": "code",
     "execution_count": null,
     "metadata": {},
     "outputs": [
      {
       "prompt_number": 165,
       "metadata": {},
       "output_type": "pyout",
       "text": [
        "True"
       ]
      }
     ],
     "input": [
      "balanced('(())')"
     ],
     "language": "python",
     "prompt_number": 165
    },
    {
     "cell_type": "code",
     "execution_count": null,
     "metadata": {},
     "outputs": [
      {
       "prompt_number": 166,
       "metadata": {},
       "output_type": "pyout",
       "text": [
        "True"
       ]
      }
     ],
     "input": [
      "balanced('(([]))')"
     ],
     "language": "python",
     "prompt_number": 166
    },
    {
     "cell_type": "code",
     "execution_count": null,
     "metadata": {},
     "outputs": [
      {
       "prompt_number": 167,
       "metadata": {},
       "output_type": "pyout",
       "text": [
        "True"
       ]
      }
     ],
     "input": [
      "balanced('([{<>}])')"
     ],
     "language": "python",
     "prompt_number": 167
    },
    {
     "cell_type": "code",
     "execution_count": null,
     "metadata": {},
     "outputs": [
      {
       "prompt_number": 168,
       "metadata": {},
       "output_type": "pyout",
       "text": [
        "False"
       ]
      }
     ],
     "input": [
      "balanced('([{<}>])')"
     ],
     "language": "python",
     "prompt_number": 168
    },
    {
     "cell_type": "raw",
     "metadata": {},
     "source": [
      "tree: \n",
      "\n",
      "       a \n",
      "   b       c\n",
      " d   e        f"
     ]
    },
    {
     "cell_type": "code",
     "execution_count": null,
     "metadata": {},
     "outputs": [],
     "input": [
      "tree = [('a', [('b', [('d', []),\n",
      "                      ('e', [])]),\n",
      "               ('c', [('f', [])])])]"
     ],
     "language": "python",
     "prompt_number": 169
    },
    {
     "cell_type": "raw",
     "metadata": {},
     "source": [
      "       a \n",
      "   b       c\n",
      " d   e        f\n",
      "\n",
      "pre-order: \n",
      "\n",
      "a → b → \n",
      "       d → e \n",
      "  → c → \n",
      "       f"
     ]
    },
    {
     "cell_type": "code",
     "execution_count": null,
     "metadata": {},
     "outputs": [],
     "input": [
      "def preorder(tree):\n",
      "    stack = [tree[0]]\n",
      "    output = []\n",
      "    while stack:\n",
      "        value, children = stack.pop()\n",
      "        output.append(value)\n",
      "        stack.extend(reversed(children))\n",
      "    return output                "
     ],
     "language": "python",
     "prompt_number": 170
    },
    {
     "cell_type": "code",
     "execution_count": null,
     "metadata": {},
     "outputs": [
      {
       "prompt_number": 171,
       "metadata": {},
       "output_type": "pyout",
       "text": [
        "['a', 'b', 'd', 'e', 'c', 'f']"
       ]
      }
     ],
     "input": [
      "preorder(tree)"
     ],
     "language": "python",
     "prompt_number": 171
    },
    {
     "cell_type": "raw",
     "metadata": {},
     "source": [
      "       a \n",
      "   b       c\n",
      " d   e        f\n",
      "\n",
      "level order: \n",
      "\n",
      "a → \n",
      "    b → c → \n",
      "            d → e → f"
     ]
    },
    {
     "cell_type": "code",
     "execution_count": null,
     "metadata": {},
     "outputs": [],
     "input": [
      "from collections import deque\n",
      "\n",
      "def levelorder(tree):\n",
      "    queue = deque([tree[0]])\n",
      "    output = []\n",
      "    while queue:\n",
      "        value, children = queue.popleft()\n",
      "        output.append(value)\n",
      "        queue.extend(children)\n",
      "    return output                "
     ],
     "language": "python",
     "prompt_number": 172
    },
    {
     "cell_type": "code",
     "execution_count": null,
     "metadata": {},
     "outputs": [
      {
       "prompt_number": 173,
       "metadata": {},
       "output_type": "pyout",
       "text": [
        "['a', 'b', 'c', 'd', 'e', 'f']"
       ]
      }
     ],
     "input": [
      "levelorder(tree)"
     ],
     "language": "python",
     "prompt_number": 173
    },
    {
     "cell_type": "raw",
     "metadata": {},
     "source": [
      "good: madam, i'm adam\n",
      "bad:  a man, a plan, a canal: suez!"
     ]
    },
    {
     "cell_type": "code",
     "execution_count": null,
     "metadata": {},
     "outputs": [],
     "input": [
      "# deque supports both first-in, first-out (queue) & last-in, first-out (stack) behaviour\n",
      "\n",
      "from collections import deque\n",
      "from string import ascii_lowercase\n",
      "\n",
      "def palindrome(sentence):\n",
      "    letters = deque()\n",
      "    \n",
      "    for char in sentence:\n",
      "        char = char.lower()\n",
      "        if char in ascii_lowercase:\n",
      "            letters.append(char)\n",
      "    \n",
      "    while len(letters) > 1:\n",
      "        if letters.popleft() != letters.pop():\n",
      "            return False\n",
      "    \n",
      "    return True"
     ],
     "language": "python",
     "prompt_number": 174
    },
    {
     "cell_type": "code",
     "execution_count": null,
     "metadata": {},
     "outputs": [
      {
       "prompt_number": 175,
       "metadata": {},
       "output_type": "pyout",
       "text": [
        "True"
       ]
      }
     ],
     "input": [
      "palindrome(\"madam, i'm adam\")"
     ],
     "language": "python",
     "prompt_number": 175
    },
    {
     "cell_type": "code",
     "execution_count": null,
     "metadata": {},
     "outputs": [
      {
       "prompt_number": 177,
       "metadata": {},
       "output_type": "pyout",
       "text": [
        "True"
       ]
      }
     ],
     "input": [
      "palindrome(\"a man, a plan, a canal: panama!\")"
     ],
     "language": "python",
     "prompt_number": 177
    },
    {
     "cell_type": "heading",
     "metadata": {},
     "level": 3,
     "source": [
      "`heapq` module"
     ]
    },
    {
     "cell_type": "markdown",
     "metadata": {},
     "source": [
      "https://docs.python.org/3/library/heapq.html"
     ]
    },
    {
     "cell_type": "code",
     "execution_count": null,
     "metadata": {},
     "outputs": [
      {
       "prompt_number": 178,
       "metadata": {},
       "output_type": "pyout",
       "text": [
        "[73, 1, 82, 8, 10, 75, 95, 26, 3, 38]"
       ]
      }
     ],
     "input": [
      "from random import randrange\n",
      "\n",
      "numbers = [randrange(0, 100) for _ in range(10)]\n",
      "numbers"
     ],
     "language": "python",
     "prompt_number": 178
    },
    {
     "cell_type": "code",
     "execution_count": null,
     "metadata": {},
     "outputs": [
      {
       "prompt_number": 179,
       "metadata": {},
       "output_type": "pyout",
       "text": [
        "[1, 3, 75, 8, 10, 82, 95, 26, 73, 38]"
       ]
      }
     ],
     "input": [
      "from heapq import heapify\n",
      "\n",
      "heapify(numbers)\n",
      "numbers"
     ],
     "language": "python",
     "prompt_number": 179
    },
    {
     "cell_type": "code",
     "execution_count": null,
     "metadata": {},
     "outputs": [
      {
       "prompt_number": 181,
       "metadata": {},
       "output_type": "pyout",
       "text": [
        "[1, 3, 55, 8, 10, 75, 95, 26, 73, 38, 55, 82]"
       ]
      }
     ],
     "input": [
      "from heapq import heappush\n",
      "\n",
      "heappush(numbers, 55)\n",
      "numbers"
     ],
     "language": "python",
     "prompt_number": 181
    },
    {
     "cell_type": "code",
     "execution_count": null,
     "metadata": {},
     "outputs": [
      {
       "prompt_number": 182,
       "metadata": {},
       "output_type": "pyout",
       "text": [
        "([95, 82, 75], [1, 3, 8])"
       ]
      }
     ],
     "input": [
      "from heapq import nsmallest, nlargest\n",
      "\n",
      "nlargest(3, numbers), nsmallest(3, numbers)"
     ],
     "language": "python",
     "prompt_number": 182
    },
    {
     "cell_type": "code",
     "execution_count": null,
     "metadata": {},
     "outputs": [
      {
       "stream": "stdout",
       "output_type": "stream",
       "text": [
        "1\n",
        "3\n",
        "8\n",
        "10\n",
        "26\n",
        "38\n",
        "55\n",
        "55\n",
        "73\n",
        "75\n",
        "82\n",
        "95\n"
       ]
      }
     ],
     "input": [
      "from heapq import heappop\n",
      "\n",
      "while numbers:\n",
      "    print (heappop(numbers))"
     ],
     "language": "python",
     "prompt_number": 183
    },
    {
     "cell_type": "heading",
     "metadata": {},
     "level": 3,
     "source": [
      "`bisect` module"
     ]
    },
    {
     "cell_type": "markdown",
     "metadata": {},
     "source": [
      "https://docs.python.org/3/library/bisect.html"
     ]
    },
    {
     "cell_type": "code",
     "execution_count": null,
     "metadata": {},
     "outputs": [],
     "input": [
      "from random import randrange\n",
      "\n",
      "numbers = [randrange(0, 100) for _ in range(10)]\n",
      "numbers.sort()\n",
      "numbers"
     ],
     "language": "python"
    },
    {
     "cell_type": "code",
     "execution_count": null,
     "metadata": {},
     "outputs": [],
     "input": [
      "from bisect import bisect\n",
      "bisect(numbers, 55)"
     ],
     "language": "python"
    },
    {
     "cell_type": "code",
     "execution_count": null,
     "metadata": {},
     "outputs": [],
     "input": [
      "from bisect import insort\n",
      "insort(numbers, 55)\n",
      "numbers"
     ],
     "language": "python"
    },
    {
     "cell_type": "heading",
     "metadata": {},
     "level": 2,
     "source": [
      "Problem Statement: Phone Book"
     ]
    },
    {
     "cell_type": "raw",
     "metadata": {},
     "source": [
      "Write a set of functions to implement a personal rolodex (phone book.)\n",
      "- insert, remove\n",
      "- retreive by name\n",
      "- retrieve by details"
     ]
    },
    {
     "cell_type": "code",
     "execution_count": null,
     "metadata": {},
     "outputs": [],
     "input": [
      "phone_book = []"
     ],
     "language": "python"
    },
    {
     "cell_type": "code",
     "execution_count": null,
     "metadata": {},
     "outputs": [],
     "input": [
      "from collections import namedtuple\n",
      "Entry = namedtuple('Entry', 'name address birthday')"
     ],
     "language": "python"
    },
    {
     "cell_type": "code",
     "execution_count": null,
     "metadata": {},
     "outputs": [],
     "input": [
      "def add_entry(phone_book, name, address, birthday):\n",
      "    phone_book.append(Entry(name, address, birthday))"
     ],
     "language": "python"
    },
    {
     "cell_type": "code",
     "execution_count": null,
     "metadata": {},
     "outputs": [],
     "input": [
      "def display(phone_book):\n",
      "    for entry in phone_book:\n",
      "        print ('{e.name:<20} {e.address:^15} {e.birthday:%b %d, %Y}'.format(e=entry))"
     ],
     "language": "python"
    },
    {
     "cell_type": "code",
     "execution_count": null,
     "metadata": {},
     "outputs": [],
     "input": [
      "from datetime import date\n",
      "\n",
      "add_entry(phone_book, 'George Washington', 'Westmoreland', date(1732,  2, 22))\n",
      "add_entry(phone_book, 'James Monroe',      'Monroe Hall',  date(1758,  4, 28))\n",
      "add_entry(phone_book, 'John Quincy Adams', 'Braintree',    date(1767,  7, 11))\n",
      "add_entry(phone_book, 'John Adams',        'Braintree',    date(1735, 10, 30))\n",
      "add_entry(phone_book, 'John Tyler',        'Charles City', date(1790,  3, 29))\n",
      "add_entry(phone_book, 'John F Kennedy',    'Brookline',    date(1917,  5, 29))\n",
      "\n",
      "display(phone_book)"
     ],
     "language": "python"
    },
    {
     "cell_type": "code",
     "execution_count": null,
     "metadata": {},
     "outputs": [],
     "input": [
      "def remove_entry_by_name(phone_book, name):\n",
      "    to_remove = []\n",
      "    for entry in phone_book:\n",
      "        if entry.name == name:\n",
      "            to_remove.append(entry)\n",
      "            \n",
      "    for entry in to_remove:\n",
      "        phone_book.remove(entry)"
     ],
     "language": "python"
    },
    {
     "cell_type": "code",
     "execution_count": null,
     "metadata": {},
     "outputs": [],
     "input": [
      "remove_entry_by_name(phone_book, 'George Washington')\n",
      "display(phone_book)"
     ],
     "language": "python"
    },
    {
     "cell_type": "code",
     "execution_count": null,
     "metadata": {},
     "outputs": [],
     "input": [
      "def remove_entry_by_fuzzy_name(phone_book, name):\n",
      "    to_remove = []\n",
      "    for entry in phone_book:\n",
      "        if name.lower() in entry.name.lower():\n",
      "            to_remove.append(entry)\n",
      "            \n",
      "    for entry in to_remove:\n",
      "        phone_book.remove(entry)"
     ],
     "language": "python"
    },
    {
     "cell_type": "code",
     "execution_count": null,
     "metadata": {},
     "outputs": [],
     "input": [
      "remove_entry_by_fuzzy_name(phone_book, 'john')\n",
      "display(phone_book)"
     ],
     "language": "python"
    },
    {
     "cell_type": "code",
     "execution_count": null,
     "metadata": {},
     "outputs": [],
     "input": [
      "def add_entry(phone_book, name, address, birthday):\n",
      "    remove_entry_by_name(phone_book, name)\n",
      "    phone_book.append(Entry(name, address, birthday))"
     ],
     "language": "python"
    },
    {
     "cell_type": "code",
     "execution_count": null,
     "metadata": {},
     "outputs": [],
     "input": [
      "def retrieve_entry_by_address(phone_book, address):\n",
      "    rv = []\n",
      "    for entry in phone_book:\n",
      "        if address.lower() in entry.address.lower():\n",
      "            rv.append(entry)\n",
      "    return rv"
     ],
     "language": "python"
    },
    {
     "cell_type": "code",
     "execution_count": null,
     "metadata": {},
     "outputs": [],
     "input": [
      "display(retrieve_entry_by_address(phone_book, 'braintree'))"
     ],
     "language": "python"
    },
    {
     "cell_type": "code",
     "execution_count": null,
     "metadata": {},
     "outputs": [],
     "input": [
      "from datetime import date\n",
      "\n",
      "def age(entry):\n",
      "    return date(2015, 1, 1) - entry.birthday"
     ],
     "language": "python"
    },
    {
     "cell_type": "code",
     "execution_count": null,
     "metadata": {},
     "outputs": [],
     "input": [
      "def retrieve_entry_by_name(phone_book, name):\n",
      "    rv = []\n",
      "    for entry in phone_book:\n",
      "        if name.lower() in entry.name.lower():\n",
      "            rv.append(entry)\n",
      "    return rv"
     ],
     "language": "python"
    },
    {
     "cell_type": "code",
     "execution_count": null,
     "metadata": {},
     "outputs": [],
     "input": [
      "display(sorted(retrieve_entry_by_name(phone_book, 'john'), key=age))"
     ],
     "language": "python"
    }
   ]
  }
 ],
 "cells": [],
 "metadata": {
  "name": "",
  "signature": "sha256:9a75201c4c375bd8ba970c24682bf958738efafb4a5a6ffa88a82ecbceec4543"
 },
 "nbformat": 4,
 "nbformat_minor": 0
}
