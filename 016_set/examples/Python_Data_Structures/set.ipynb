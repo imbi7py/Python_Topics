{
 "cells": [
  {
   "cell_type": "heading",
   "metadata": {},
   "level": 1,
   "source": [
    "`set`"
   ]
  },
  {
   "cell_type": "heading",
   "metadata": {},
   "level": 2,
   "source": [
    "Problem Statement: Prime Number Generator"
   ]
  },
  {
   "cell_type": "raw",
   "metadata": {},
   "source": [
    "Find all the prime numbers up to a given number."
   ]
  },
  {
   "cell_type": "code",
   "execution_count": null,
   "metadata": {},
   "outputs": [],
   "source": [
    "def primes(max_num=100):\n",
    "    found_primes = {2}\n",
    "    for num in range(3,max_num):\n",
    "        isprime = True\n",
    "        for divisor in found_primes:\n",
    "            if num % divisor == 0:\n",
    "                isprime = False\n",
    "        if isprime:\n",
    "            found_primes.add(num)\n",
    "    return found_primes"
   ]
  },
  {
   "cell_type": "code",
   "execution_count": null,
   "metadata": {},
   "outputs": [],
   "source": [
    "print(primes())"
   ]
  },
  {
   "cell_type": "heading",
   "metadata": {},
   "level": 2,
   "source": [
    "set"
   ]
  },
  {
   "cell_type": "raw",
   "metadata": {},
   "source": [
    "- collection of items\n",
    "- no natural sorting\n",
    "- unique items\n",
    "- hashability\n",
    "- methods: intersect, difference, union, ... "
   ]
  },
  {
   "cell_type": "heading",
   "metadata": {},
   "level": 4,
   "source": [
    "interacting with the `set`-type"
   ]
  },
  {
   "cell_type": "code",
   "execution_count": null,
   "metadata": {},
   "outputs": [],
   "source": [
    "suits = {'hearts', 'diamonds', 'spades', 'clubs', }\n",
    "\n",
    "faces = set(['ace', 'king', 'queen', 'jack', 'jack'])\n",
    "\n",
    "numbers = set(range(2,11))"
   ]
  },
  {
   "cell_type": "code",
   "execution_count": null,
   "metadata": {},
   "outputs": [],
   "source": [
    "suits"
   ]
  },
  {
   "cell_type": "code",
   "execution_count": null,
   "metadata": {},
   "outputs": [],
   "source": [
    "faces"
   ]
  },
  {
   "cell_type": "code",
   "execution_count": null,
   "metadata": {},
   "outputs": [],
   "source": [
    "numbers"
   ]
  },
  {
   "cell_type": "code",
   "execution_count": null,
   "metadata": {},
   "outputs": [],
   "source": [
    "deck = set() # {} means \"empty dictionary\"\n",
    "\n",
    "for suit in suits:\n",
    "    for number in numbers:\n",
    "        deck.add('{} of {}'.format(number, suit))\n",
    "    for face in faces:\n",
    "        deck.add('{} of {}'.format(face, suit))\n",
    "\n",
    "deck"
   ]
  },
  {
   "cell_type": "code",
   "execution_count": null,
   "metadata": {},
   "outputs": [],
   "source": [
    "deck[0]"
   ]
  },
  {
   "cell_type": "code",
   "execution_count": null,
   "metadata": {},
   "outputs": [],
   "source": [
    "from random import choice\n",
    "\n",
    "choice(deck)"
   ]
  },
  {
   "cell_type": "code",
   "execution_count": null,
   "metadata": {},
   "outputs": [],
   "source": [
    "from random import shuffle\n",
    "\n",
    "shuffle(deck)"
   ]
  },
  {
   "cell_type": "code",
   "execution_count": null,
   "metadata": {},
   "outputs": [],
   "source": [
    "hand = set()\n",
    "\n",
    "for card in deck:\n",
    "    if len(hand) < 5:\n",
    "        hand.add(card)\n",
    "        deck.remove(card)\n",
    "    \n",
    "hand"
   ]
  },
  {
   "cell_type": "code",
   "execution_count": null,
   "metadata": {},
   "outputs": [],
   "source": [
    "hand = set()\n",
    "\n",
    "for card in deck:\n",
    "    if len(hand) < 2:\n",
    "        hand.add(card)\n",
    "    \n",
    "for card in hand:\n",
    "    deck.remove(card)\n",
    "    \n",
    "hand"
   ]
  },
  {
   "cell_type": "code",
   "execution_count": null,
   "metadata": {},
   "outputs": [],
   "source": [
    "board = set()\n",
    "\n",
    "for _ in range(3):\n",
    "    board.add(deck.pop())\n",
    "    \n",
    "board"
   ]
  },
  {
   "cell_type": "code",
   "execution_count": null,
   "metadata": {},
   "outputs": [],
   "source": [
    "board | hand"
   ]
  },
  {
   "cell_type": "code",
   "execution_count": null,
   "metadata": {},
   "outputs": [],
   "source": [
    "board.union(hand)"
   ]
  },
  {
   "cell_type": "code",
   "execution_count": null,
   "metadata": {},
   "outputs": [],
   "source": [
    "deck.add('High Joker')\n",
    "deck.add('Low Joker')"
   ]
  },
  {
   "cell_type": "code",
   "execution_count": null,
   "metadata": {},
   "outputs": [],
   "source": [
    "'High Joker' in deck"
   ]
  },
  {
   "cell_type": "code",
   "execution_count": null,
   "metadata": {},
   "outputs": [],
   "source": [
    "deck.remove('High Joker')\n",
    "deck.remove('Low Joker')"
   ]
  },
  {
   "cell_type": "code",
   "execution_count": null,
   "metadata": {},
   "outputs": [],
   "source": [
    "deck.discard('rules of five-card stud')"
   ]
  },
  {
   "cell_type": "code",
   "execution_count": null,
   "metadata": {},
   "outputs": [],
   "source": [
    "deck = { '{} of {}'.format(rank, suit) for rank in numbers | faces\n",
    "                                       for suit in suits }\n",
    "\n",
    "deck.update(['high Joker', 'low Joker'])\n",
    "\n",
    "deck"
   ]
  },
  {
   "cell_type": "code",
   "execution_count": null,
   "metadata": {},
   "outputs": [],
   "source": [
    "from collections import namedtuple\n",
    "\n",
    "Card = namedtuple('Card', 'suit rank')\n",
    "\n",
    "deck = {Card(suit, rank) for rank in numbers | faces\n",
    "                          for suit in suits }\n",
    "\n",
    "deck"
   ]
  },
  {
   "cell_type": "raw",
   "metadata": {},
   "source": [
    "- straight flush\n",
    "- four of a kind\n",
    "- full house\n",
    "- flush\n",
    "- straight\n",
    "- three of a kind\n",
    "- two pair\n",
    "- one pair\n",
    "- high card"
   ]
  },
  {
   "cell_type": "code",
   "execution_count": null,
   "metadata": {},
   "outputs": [],
   "source": [
    "valid_straights = {set(range(n, n+5)) for n in range(2,7)}"
   ]
  },
  {
   "cell_type": "code",
   "execution_count": null,
   "metadata": {},
   "outputs": [],
   "source": [
    "valid_straights = {frozenset(range(n, n+5)) for n in range(2,7)}\n",
    "valid_straights"
   ]
  },
  {
   "cell_type": "code",
   "execution_count": null,
   "metadata": {},
   "outputs": [],
   "source": [
    "valid_straights = {frozenset(range(n, n+5)) for n in range(2,7)} | \\\n",
    "                  {frozenset(['ace', 2, 3, 4, 5])              } | \\\n",
    "                  {frozenset([7, 8, 9, 10, 'jack'])            } | \\\n",
    "                  {frozenset([8, 9, 10, 'jack', 'queen'])      } | \\\n",
    "                  {frozenset([9, 10, 'jack', 'queen', 'king']) } | \\\n",
    "                  {frozenset([10, 'jack', 'queen', 'king', 'ace']) }\n",
    "    \n",
    "valid_straights"
   ]
  },
  {
   "cell_type": "code",
   "execution_count": null,
   "metadata": {},
   "outputs": [],
   "source": [
    "def rank2value(card):\n",
    "    if card.rank in numbers:\n",
    "        return card.rank\n",
    "    \n",
    "    return {'ace':   14,\n",
    "            'king':  13,\n",
    "            'queen': 12,\n",
    "            'jack':  11,}[card.rank]"
   ]
  },
  {
   "cell_type": "code",
   "execution_count": null,
   "metadata": {},
   "outputs": [],
   "source": [
    "def best_card(hand):\n",
    "    return max(hand, key=rank2value)"
   ]
  },
  {
   "cell_type": "code",
   "execution_count": null,
   "metadata": {},
   "outputs": [],
   "source": [
    "from itertools import groupby, combinations\n",
    "\n",
    "def best_hand(hand):\n",
    "    suits_in_hand = {card.suit for card in hand}\n",
    "    ranks_in_hand = {frozenset(cs) for _,cs in groupby(sorted(hand, key=rank2value), key=rank2value)}\n",
    "    \n",
    "    high_card        = best_card(hand)\n",
    "    twos_of_a_kind   = {cs for cs in ranks_in_hand if len(cs) == 2}\n",
    "    threes_of_a_kind = {cs for cs in ranks_in_hand if len(cs) == 3}\n",
    "    fours_of_a_kind  = {cs for cs in ranks_in_hand if len(cs) == 4}\n",
    "    straights        = {cs for cs in combinations(hand, 5) if {c.rank for c in cs} in valid_straights}\n",
    "        \n",
    "    if len(suits_in_hand) == 1 and straights:\n",
    "        return hand, 'straight flush'\n",
    "    \n",
    "    if fours_of_a_kind:\n",
    "        return max(fours_of_a_kind, key=lambda cs: rank2value(best_card(cs))), 'four of a kind'\n",
    "    \n",
    "    if threes_of_a_kind and twos_of_a_kind:\n",
    "        return max(threes_of_a_kind, key=lambda cs: rank2value(best_card(cs))) | \\\n",
    "               max(twos_of_a_kind,   key=lambda cs: rank2value(best_card(cs))), 'full house'\n",
    "        \n",
    "    if len(suits_in_hand) == 1:\n",
    "        return hand, 'flush'\n",
    "    \n",
    "    if straights:\n",
    "        return max(straights, key=lambda cs: rank2value(best_card(cs))), 'straight'\n",
    "    \n",
    "    if threes_of_a_kind:\n",
    "        return max(threes_of_a_kind, key=lambda cs: rank2value(best_card(cs))), 'three of a kind'\n",
    "    \n",
    "    if len(twos_of_a_kind) == 2:\n",
    "        return twos_of_a_kind.pop() | twos_of_a_kind.pop(), 'two pairs'\n",
    "\n",
    "    if len(twos_of_a_kind) == 1:\n",
    "        return twos_of_a_kind.pop(), 'one pair'\n",
    "    \n",
    "    return {high_card,}, 'high card'"
   ]
  },
  {
   "cell_type": "code",
   "execution_count": null,
   "metadata": {},
   "outputs": [],
   "source": [
    "%%time\n",
    "\n",
    "from itertools import combinations\n",
    "\n",
    "example_hands = {}\n",
    "\n",
    "for hand in combinations(deck, 5):\n",
    "    cards, hand_type = best_hand(hand)\n",
    "    if hand_type not in example_hands:\n",
    "        example_hands[hand_type] = cards, hand"
   ]
  },
  {
   "cell_type": "code",
   "execution_count": null,
   "metadata": {},
   "outputs": [],
   "source": [
    "for hand_type in example_hands:\n",
    "    print(hand_type)\n",
    "    print('=' * len(hand_type))\n",
    "    matched_cards, all_cards = example_hands[hand_type]\n",
    "    for card in all_cards:\n",
    "        print('  ', '*' if card in matched_cards else ' ', '{} of {}'.format(card.rank, card.suit))"
   ]
  },
  {
   "cell_type": "raw",
   "metadata": {},
   "source": [
    ".clear\n",
    ".difference\n",
    ".difference_update\n",
    ".intersection\n",
    ".intersection_update\n",
    ".symmetric_difference\n",
    ".symmetric_difference_update"
   ]
  },
  {
   "cell_type": "code",
   "execution_count": null,
   "metadata": {},
   "outputs": [],
   "source": [
    "animals = {'dog', 'cat', 'bird'}\n",
    "animals"
   ]
  },
  {
   "cell_type": "code",
   "execution_count": null,
   "metadata": {},
   "outputs": [],
   "source": [
    "animals.clear()\n",
    "animals"
   ]
  },
  {
   "cell_type": "code",
   "execution_count": null,
   "metadata": {},
   "outputs": [],
   "source": [
    "while animals:\n",
    "    animals.pop()"
   ]
  },
  {
   "cell_type": "code",
   "execution_count": null,
   "metadata": {},
   "outputs": [],
   "source": [
    "{'dog', 'cat', 'bird'} - {'horse'}"
   ]
  },
  {
   "cell_type": "code",
   "execution_count": null,
   "metadata": {},
   "outputs": [],
   "source": [
    "{'dog', 'cat', 'bird'}.difference('cat')"
   ]
  },
  {
   "cell_type": "code",
   "execution_count": null,
   "metadata": {},
   "outputs": [],
   "source": [
    "{'dog', 'cat', 'bird'}.difference(['cat'])"
   ]
  },
  {
   "cell_type": "code",
   "execution_count": null,
   "metadata": {},
   "outputs": [],
   "source": [
    "{'dog', 'cat', 'bird', 'horse'}.symmetric_difference({'dog', 'horse', 'giraffe'})"
   ]
  },
  {
   "cell_type": "code",
   "execution_count": null,
   "metadata": {},
   "outputs": [],
   "source": [
    "{'dog', 'cat', 'bird', 'horse'} ^ {'dog', 'horse', 'giraffe'}"
   ]
  },
  {
   "cell_type": "code",
   "execution_count": null,
   "metadata": {},
   "outputs": [],
   "source": [
    "{'dog', 'cat', 'bird', 'horse'}.intersection({'dog', 'horse', 'giraffe'})"
   ]
  },
  {
   "cell_type": "code",
   "execution_count": null,
   "metadata": {},
   "outputs": [],
   "source": [
    "{'dog', 'cat', 'bird', 'horse'} & {'dog', 'horse', 'giraffe'}"
   ]
  },
  {
   "cell_type": "code",
   "execution_count": null,
   "metadata": {},
   "outputs": [],
   "source": [
    "animals = {'dog', 'cat', 'bird'}\n",
    "animals.intersection_update({'bird', 'horse'})\n",
    "animals"
   ]
  },
  {
   "cell_type": "code",
   "execution_count": null,
   "metadata": {},
   "outputs": [],
   "source": [
    "animals = {'dog', 'cat', 'bird'}\n",
    "animals &= {'bird', 'horse'}\n",
    "animals"
   ]
  },
  {
   "cell_type": "code",
   "execution_count": null,
   "metadata": {},
   "outputs": [],
   "source": [
    "animals = {'dog', 'cat', 'bird'}\n",
    "animals.difference_update({'bird', 'horse'})\n",
    "animals"
   ]
  },
  {
   "cell_type": "code",
   "execution_count": null,
   "metadata": {},
   "outputs": [],
   "source": [
    "animals = {'dog', 'cat', 'bird'}\n",
    "animals -= {'bird', 'horse'}\n",
    "animals"
   ]
  },
  {
   "cell_type": "code",
   "execution_count": null,
   "metadata": {},
   "outputs": [],
   "source": [
    "animals = {'dog', 'cat', 'bird'}\n",
    "animals.update({'bird', 'horse'}) # think `union_update`\n",
    "animals"
   ]
  },
  {
   "cell_type": "code",
   "execution_count": null,
   "metadata": {},
   "outputs": [],
   "source": [
    "animals = {'dog', 'cat', 'bird'}\n",
    "animals |= {'bird', 'horse'}\n",
    "animals"
   ]
  },
  {
   "cell_type": "code",
   "execution_count": null,
   "metadata": {},
   "outputs": [],
   "source": [
    "animals = {'dog', 'cat', 'bird'}\n",
    "animals.symmetric_difference_update({'bird', 'horse'})\n",
    "animals"
   ]
  },
  {
   "cell_type": "code",
   "execution_count": null,
   "metadata": {},
   "outputs": [],
   "source": [
    "animals = {'dog', 'cat', 'bird'}\n",
    "animals ^= {'bird', 'horse'}\n",
    "animals"
   ]
  },
  {
   "cell_type": "heading",
   "metadata": {},
   "level": 2,
   "source": [
    "Problem Statement: Prime Number Generator"
   ]
  },
  {
   "cell_type": "raw",
   "metadata": {},
   "source": [
    "Find all the prime numbers up to a given number."
   ]
  },
  {
   "cell_type": "code",
   "execution_count": 132,
   "metadata": {},
   "outputs": [],
   "source": [
    "def primes(max_num=100):\n",
    "    found_primes = {2}\n",
    "    for num in range(3, max_num):\n",
    "        # determine if the number is prime\n",
    "        pass\n",
    "    return found_primes"
   ]
  },
  {
   "cell_type": "code",
   "execution_count": 133,
   "metadata": {},
   "outputs": [],
   "source": [
    "def primes(max_num=100):\n",
    "    found_primes = {2}\n",
    "    for num in range(3,max_num):\n",
    "        isprime = True\n",
    "        for divisor in found_primes:\n",
    "            if num % divisor == 0:\n",
    "                isprime = False\n",
    "        if isprime:\n",
    "            found_primes.add(num)\n",
    "    return found_primes"
   ]
  },
  {
   "cell_type": "code",
   "execution_count": 134,
   "metadata": {},
   "outputs": [
    {
     "name": "stdout",
     "output_type": "stream",
     "text": [
      "{2, 3, 5, 7, 11, 13, 17, 19, 23, 29, 31, 37, 41, 43, 47, 53, 59, 61, 67, 71, 73, 79, 83, 89, 97}\n"
     ]
    }
   ],
   "source": [
    "print(primes())"
   ]
  },
  {
   "cell_type": "code",
   "execution_count": 135,
   "metadata": {},
   "outputs": [],
   "source": [
    "def primes(max_num=100):\n",
    "    found_primes = set()\n",
    "    for num in range(2,max_num):\n",
    "        if not any(num % divisor == 0 for divisor in found_primes):\n",
    "            found_primes.add(num)\n",
    "    return found_primes"
   ]
  },
  {
   "cell_type": "code",
   "execution_count": 136,
   "metadata": {},
   "outputs": [
    {
     "name": "stdout",
     "output_type": "stream",
     "text": [
      "{2, 3, 5, 7, 11, 13, 17, 19, 23, 29, 31, 37, 41, 43, 47, 53, 59, 61, 67, 71, 73, 79, 83, 89, 97}\n"
     ]
    }
   ],
   "source": [
    "print(primes())"
   ]
  },
  {
   "cell_type": "code",
   "execution_count": 137,
   "metadata": {},
   "outputs": [],
   "source": [
    "def primes(max_num=100):\n",
    "    numbers = set(range(2,max_num))\n",
    "    nonprimes = set()\n",
    "    for num in numbers:\n",
    "        for x in range(num, max_num // num + 1):\n",
    "            nonprimes.add(num * x)\n",
    "    return numbers - nonprimes"
   ]
  },
  {
   "cell_type": "code",
   "execution_count": 138,
   "metadata": {},
   "outputs": [
    {
     "name": "stdout",
     "output_type": "stream",
     "text": [
      "{2, 3, 5, 7, 11, 13, 17, 19, 23, 29, 31, 37, 41, 43, 47, 53, 59, 61, 67, 71, 73, 79, 83, 89, 97}\n"
     ]
    }
   ],
   "source": [
    "print(primes())"
   ]
  },
  {
   "cell_type": "code",
   "execution_count": 139,
   "metadata": {},
   "outputs": [],
   "source": [
    "def primes(max_num=100):\n",
    "    numbers = set(range(2,max_num))\n",
    "    nonprimes = set()\n",
    "    for num in numbers:\n",
    "        nonprimes.update(num * x for x in range(num, max_num // num + 1))\n",
    "    return numbers - nonprimes"
   ]
  },
  {
   "cell_type": "code",
   "execution_count": 140,
   "metadata": {},
   "outputs": [
    {
     "name": "stdout",
     "output_type": "stream",
     "text": [
      "{2, 3, 5, 7, 11, 13, 17, 19, 23, 29, 31, 37, 41, 43, 47, 53, 59, 61, 67, 71, 73, 79, 83, 89, 97}\n"
     ]
    }
   ],
   "source": [
    "print(primes())"
   ]
  },
  {
   "cell_type": "code",
   "execution_count": 141,
   "metadata": {},
   "outputs": [],
   "source": [
    "def primes(max_num=100):\n",
    "    numbers = set(range(2,max_num))\n",
    "    for num in range(2, max_num):\n",
    "        for x in range(num, max_num // num + 1):\n",
    "            numbers.discard(num * x)\n",
    "    return numbers"
   ]
  },
  {
   "cell_type": "code",
   "execution_count": 142,
   "metadata": {},
   "outputs": [
    {
     "name": "stdout",
     "output_type": "stream",
     "text": [
      "{2, 3, 5, 7, 11, 13, 17, 19, 23, 29, 31, 37, 41, 43, 47, 53, 59, 61, 67, 71, 73, 79, 83, 89, 97}\n"
     ]
    }
   ],
   "source": [
    "print(primes())"
   ]
  },
  {
   "cell_type": "markdown",
   "metadata": {},
   "source": [
    "[An Introduction to Prime Number Sieves: ftp://ftp.cs.wisc.edu/pub/techreports/1990/TR909.pdf](ftp://ftp.cs.wisc.edu/pub/techreports/1990/TR909.pdf)"
   ]
  },
  {
   "cell_type": "code",
   "execution_count": 143,
   "metadata": {},
   "outputs": [],
   "source": [
    "from itertools import count\n",
    "\n",
    "def primes():\n",
    "    found_primes = {2}\n",
    "    yield 2\n",
    "    for num in count(3):\n",
    "        isprime = True\n",
    "        for divisor in found_primes:\n",
    "            if num % divisor == 0:\n",
    "                isprime = False\n",
    "        if isprime:\n",
    "            found_primes.add(num)\n",
    "            yield num"
   ]
  },
  {
   "cell_type": "code",
   "execution_count": null,
   "metadata": {},
   "outputs": [],
   "source": [
    "# list(primes())"
   ]
  },
  {
   "cell_type": "code",
   "execution_count": 145,
   "metadata": {},
   "outputs": [
    {
     "name": "stdout",
     "output_type": "stream",
     "text": [
      "{2, 3, 5, 7, 11, 13, 17, 19, 23, 29}\n"
     ]
    }
   ],
   "source": [
    "from itertools import islice\n",
    "\n",
    "print(set(islice(primes(),0,10)))"
   ]
  },
  {
   "cell_type": "code",
   "execution_count": 156,
   "metadata": {},
   "outputs": [],
   "source": [
    "from itertools import count\n",
    "\n",
    "def primes():\n",
    "    multiples = {}\n",
    "    for num in count(2):\n",
    "        print (multiples)\n",
    "        if num in multiples:\n",
    "            for x in multiples[num]:\n",
    "                multiples.setdefault(num+x, set()).add(x)\n",
    "            del multiples[num]\n",
    "        else: # prime !\n",
    "            multiples[num * num] = {num}\n",
    "            yield num"
   ]
  },
  {
   "cell_type": "code",
   "execution_count": 157,
   "metadata": {},
   "outputs": [
    {
     "name": "stdout",
     "output_type": "stream",
     "text": [
      "{}\n",
      "{4: {2}}\n",
      "{9: {3}, 4: {2}}\n",
      "{9: {3}, 6: {2}}\n",
      "{9: {3}, 6: {2}, 25: {5}}\n",
      "{8: {2}, 9: {3}, 25: {5}}\n",
      "{49: {7}, 25: {5}, 8: {2}, 9: {3}}\n",
      "{49: {7}, 25: {5}, 9: {3}, 10: {2}}\n",
      "{49: {7}, 25: {5}, 10: {2}, 12: {3}}\n",
      "{49: {7}, 25: {5}, 12: {2, 3}}\n",
      "{49: {7}, 25: {5}, 121: {11}, 12: {2, 3}}\n",
      "{49: {7}, 25: {5}, 121: {11}, 14: {2}, 15: {3}}\n",
      "{49: {7}, 169: {13}, 25: {5}, 121: {11}, 14: {2}, 15: {3}}\n",
      "{16: {2}, 49: {7}, 169: {13}, 25: {5}, 121: {11}, 15: {3}}\n",
      "{16: {2}, 49: {7}, 18: {3}, 169: {13}, 25: {5}, 121: {11}}\n",
      "{49: {7}, 18: {2, 3}, 169: {13}, 25: {5}, 121: {11}}\n",
      "{289: {17}, 169: {13}, 49: {7}, 18: {2, 3}, 121: {11}, 25: {5}}\n",
      "{289: {17}, 169: {13}, 49: {7}, 20: {2}, 21: {3}, 121: {11}, 25: {5}}\n",
      "{289: {17}, 169: {13}, 49: {7}, 20: {2}, 21: {3}, 121: {11}, 25: {5}, 361: {19}}\n",
      "{289: {17}, 169: {13}, 49: {7}, 21: {3}, 22: {2}, 121: {11}, 25: {5}, 361: {19}}\n",
      "{289: {17}, 169: {13}, 49: {7}, 22: {2}, 121: {11}, 24: {3}, 25: {5}, 361: {19}}\n",
      "{289: {17}, 169: {13}, 49: {7}, 121: {11}, 24: {2, 3}, 25: {5}, 361: {19}}\n",
      "{289: {17}, 529: {23}, 169: {13}, 49: {7}, 121: {11}, 24: {2, 3}, 25: {5}, 361: {19}}\n",
      "{289: {17}, 529: {23}, 169: {13}, 49: {7}, 121: {11}, 25: {5}, 26: {2}, 27: {3}, 361: {19}}\n",
      "{289: {17}, 529: {23}, 169: {13}, 49: {7}, 121: {11}, 26: {2}, 27: {3}, 30: {5}, 361: {19}}\n",
      "{289: {17}, 529: {23}, 169: {13}, 49: {7}, 121: {11}, 27: {3}, 28: {2}, 30: {5}, 361: {19}}\n",
      "{289: {17}, 529: {23}, 169: {13}, 49: {7}, 121: {11}, 28: {2}, 30: {3, 5}, 361: {19}}\n",
      "{289: {17}, 529: {23}, 169: {13}, 49: {7}, 121: {11}, 30: {2, 3, 5}, 361: {19}}\n",
      "[2, 3, 5, 7, 11, 13, 17, 19, 23, 29]\n"
     ]
    }
   ],
   "source": [
    "from itertools import islice\n",
    "\n",
    "print(list(islice(primes(),0,10)))"
   ]
  }
 ],
 "metadata": {
  "name": "",
  "signature": "sha256:fd8bead3c9d8a1534b31ebd6906e0b952948089964797f26a379e4c8b457be85"
 },
 "nbformat": 4,
 "nbformat_minor": 0
}
